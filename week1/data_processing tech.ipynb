{
 "cells": [
  {
   "cell_type": "markdown",
   "id": "0912f057-abfb-47fb-844e-bbd259e8da06",
   "metadata": {},
   "source": [
    "# 1. Image reading text: OCR"
   ]
  },
  {
   "cell_type": "code",
   "execution_count": null,
   "id": "335830db-1868-4d32-b3cc-571ace11228e",
   "metadata": {},
   "outputs": [],
   "source": [
    "pytesseract (interact between pythona nd Tesseract), Tesseract"
   ]
  },
  {
   "cell_type": "markdown",
   "id": "2fd4094e-014a-4c2b-b584-f1c40ede8b8c",
   "metadata": {},
   "source": [
    "# 2. Correct text spelling"
   ]
  },
  {
   "cell_type": "code",
   "execution_count": null,
   "id": "49264406-e3f2-43ab-92c4-2d3fdb1e1422",
   "metadata": {},
   "outputs": [],
   "source": [
    "Enchant, PyEnchant (interact between pythona nd Enchant)"
   ]
  },
  {
   "cell_type": "markdown",
   "id": "8cf84be1-83e8-446d-80c7-56767e4674c7",
   "metadata": {},
   "source": [
    "# 3. Web data cleaning up"
   ]
  },
  {
   "cell_type": "code",
   "execution_count": null,
   "id": "6adee806-747a-428d-8d35-95cebf27035e",
   "metadata": {},
   "outputs": [],
   "source": [
    "Beautifulsoup (small scale of data pulling) and Scrapy (larger scale supporting)"
   ]
  },
  {
   "cell_type": "markdown",
   "id": "d82b3a0c-81d0-4bd5-9616-76c72d7faa68",
   "metadata": {},
   "source": [
    "# 4. Read pdf file"
   ]
  },
  {
   "cell_type": "code",
   "execution_count": null,
   "id": "f60403fa-daa5-447c-a89b-4b62df52b89a",
   "metadata": {},
   "outputs": [],
   "source": [
    "PyPDF(manipulate: merge, split, rotate), PFGMiner (extract and analyze detailed content from PDF files), Tika (content from various file formats, including PDF, Apache Tika is the most versatile choice)"
   ]
  },
  {
   "cell_type": "markdown",
   "id": "94ba3faa-e144-403d-a535-d6ae07c387b2",
   "metadata": {},
   "source": [
    "# 5. Speech recognition: ASR"
   ]
  },
  {
   "cell_type": "code",
   "execution_count": null,
   "id": "e2a1b8d5-8dc1-4c32-a92a-909a12620395",
   "metadata": {},
   "outputs": [],
   "source": [
    "SpeechRecognition"
   ]
  }
 ],
 "metadata": {
  "kernelspec": {
   "display_name": "Python 3 (ipykernel)",
   "language": "python",
   "name": "python3"
  },
  "language_info": {
   "codemirror_mode": {
    "name": "ipython",
    "version": 3
   },
   "file_extension": ".py",
   "mimetype": "text/x-python",
   "name": "python",
   "nbconvert_exporter": "python",
   "pygments_lexer": "ipython3",
   "version": "3.12.5"
  }
 },
 "nbformat": 4,
 "nbformat_minor": 5
}
