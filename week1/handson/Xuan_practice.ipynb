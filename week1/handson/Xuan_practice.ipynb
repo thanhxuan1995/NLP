{
  "cells": [
    {
      "cell_type": "markdown",
      "id": "19b1b8e6-046a-4bde-b44b-c733885c8bb9",
      "metadata": {
        "id": "19b1b8e6-046a-4bde-b44b-c733885c8bb9"
      },
      "source": [
        "## 1. given the sentence, try your best to tokenize this sentence."
      ]
    },
    {
      "cell_type": "code",
      "execution_count": 2,
      "id": "879463dd-087c-4694-b9a4-40d34bc2e653",
      "metadata": {
        "id": "879463dd-087c-4694-b9a4-40d34bc2e653",
        "outputId": "2203c109-e5e3-4010-aee8-cee7f8e26229",
        "colab": {
          "base_uri": "https://localhost:8080/"
        }
      },
      "outputs": [
        {
          "output_type": "execute_result",
          "data": {
            "text/plain": [
              "['Hi Michael Stone, We are glad you could join us. I hope you have watched every video from week 1 and are prepared to put what you have learned into practise.']"
            ]
          },
          "metadata": {},
          "execution_count": 2
        }
      ],
      "source": [
        "sentences = [\n",
        "  'Hi Michael Stone, We are glad you could join us. I hope you have watched every video from week 1 and are prepared to put what you have learned into practise.',\n",
        "]\n",
        "sentences"
      ]
    },
    {
      "cell_type": "code",
      "execution_count": 1,
      "id": "62085c8a-03ff-4d50-a19f-b507dd0447ad",
      "metadata": {
        "id": "62085c8a-03ff-4d50-a19f-b507dd0447ad"
      },
      "outputs": [],
      "source": [
        "import spacy"
      ]
    },
    {
      "cell_type": "code",
      "execution_count": 3,
      "id": "44709139-baac-4262-900d-ba0b195011cf",
      "metadata": {
        "id": "44709139-baac-4262-900d-ba0b195011cf"
      },
      "outputs": [],
      "source": [
        "nlp = spacy.load(\"en_core_web_sm\")"
      ]
    },
    {
      "cell_type": "code",
      "source": [
        "xu = nlp(  sentences[0]  )\n",
        "xu.ents"
      ],
      "metadata": {
        "id": "LJYCGYTMZrSs",
        "outputId": "ccd8c8d2-177c-46f4-9716-447c4b6bce97",
        "colab": {
          "base_uri": "https://localhost:8080/"
        }
      },
      "id": "LJYCGYTMZrSs",
      "execution_count": 13,
      "outputs": [
        {
          "output_type": "execute_result",
          "data": {
            "text/plain": [
              "(Michael Stone, week 1)"
            ]
          },
          "metadata": {},
          "execution_count": 13
        }
      ]
    },
    {
      "cell_type": "code",
      "source": [
        "for sentence in sentences:\n",
        "  print(\"Xuan print sentence in sentences: \", sentence)\n",
        "  sentence_nlp = nlp(sentence)\n",
        "  for token in sentence_nlp:\n",
        "    print(token, token.tag_, token.pos_, token.lemma_)"
      ],
      "metadata": {
        "id": "aD6a0FJ_aDlR",
        "outputId": "9159faa3-ab73-4a86-d351-0cc844fa005f",
        "colab": {
          "base_uri": "https://localhost:8080/"
        }
      },
      "id": "aD6a0FJ_aDlR",
      "execution_count": 22,
      "outputs": [
        {
          "output_type": "stream",
          "name": "stdout",
          "text": [
            "Xuan print sentence in sentences:  Hi Michael Stone, We are glad you could join us. I hope you have watched every video from week 1 and are prepared to put what you have learned into practise.\n",
            "Hi UH INTJ hi\n",
            "Michael NNP PROPN Michael\n",
            "Stone NNP PROPN Stone\n",
            ", , PUNCT ,\n",
            "We PRP PRON we\n",
            "are VBP AUX be\n",
            "glad JJ ADJ glad\n",
            "you PRP PRON you\n",
            "could MD AUX could\n",
            "join VB VERB join\n",
            "us PRP PRON we\n",
            ". . PUNCT .\n",
            "I PRP PRON I\n",
            "hope VBP VERB hope\n",
            "you PRP PRON you\n",
            "have VBP AUX have\n",
            "watched VBN VERB watch\n",
            "every DT DET every\n",
            "video NN NOUN video\n",
            "from IN ADP from\n",
            "week NN NOUN week\n",
            "1 CD NUM 1\n",
            "and CC CCONJ and\n",
            "are VBP AUX be\n",
            "prepared JJ ADJ prepared\n",
            "to TO PART to\n",
            "put VB VERB put\n",
            "what WP PRON what\n",
            "you PRP PRON you\n",
            "have VBP AUX have\n",
            "learned VBN VERB learn\n",
            "into IN ADP into\n",
            "practise NN NOUN practise\n",
            ". . PUNCT .\n"
          ]
        }
      ]
    },
    {
      "cell_type": "markdown",
      "source": [
        "**Rule based matching to extract relevant information from text.**\n",
        "\n",
        "Identify and extract tokens and phrases according to patterns. We can use regular expressions to extract entities."
      ],
      "metadata": {
        "id": "7R-P4-12c9cq"
      },
      "id": "7R-P4-12c9cq"
    },
    {
      "cell_type": "code",
      "source": [
        "for sentence in sentences:\n",
        "  sentence_nlp = nlp(sentence)\n",
        "  for token in sentence_nlp:\n",
        "    print(token, token.tag_, token.pos_, token.ent_type_) if token.pos_ == \"PROPN\" else \"NONE\""
      ],
      "metadata": {
        "id": "6zWPTsLGcxqz",
        "outputId": "b1ef7a91-bf01-4ae4-9c41-57585f75a204",
        "colab": {
          "base_uri": "https://localhost:8080/"
        }
      },
      "id": "6zWPTsLGcxqz",
      "execution_count": 28,
      "outputs": [
        {
          "output_type": "stream",
          "name": "stdout",
          "text": [
            "Michael NNP PROPN PERSON\n",
            "Stone NNP PROPN PERSON\n"
          ]
        }
      ]
    },
    {
      "cell_type": "code",
      "source": [
        "sentence_nlp"
      ],
      "metadata": {
        "id": "48O1kDdyf2rs",
        "outputId": "acff62f8-b691-4a6b-d9da-ce31c0d97334",
        "colab": {
          "base_uri": "https://localhost:8080/"
        }
      },
      "id": "48O1kDdyf2rs",
      "execution_count": 44,
      "outputs": [
        {
          "output_type": "execute_result",
          "data": {
            "text/plain": [
              "Hi Michael Stone, We are glad you could join us. I hope you have watched every video from week 1 and are prepared to put what you have learned into practise."
            ]
          },
          "metadata": {},
          "execution_count": 44
        }
      ]
    },
    {
      "cell_type": "code",
      "source": [
        "from spacy.matcher import Matcher\n",
        "pattern = [{\"TAG\" : \"PRP\"}]\n",
        "matcher = Matcher(nlp.vocab)\n",
        "matcher.add(\"PROPER_NOUNS\", [pattern])\n",
        "matches = matcher(sentence_nlp)\n",
        "matches"
      ],
      "metadata": {
        "id": "EveZqUfPeHxk",
        "outputId": "8c16cd7d-0b05-4690-f9c4-09c6bc29d5c9",
        "colab": {
          "base_uri": "https://localhost:8080/"
        }
      },
      "id": "EveZqUfPeHxk",
      "execution_count": 65,
      "outputs": [
        {
          "output_type": "execute_result",
          "data": {
            "text/plain": [
              "[(3232560085755078826, 4, 5),\n",
              " (3232560085755078826, 7, 8),\n",
              " (3232560085755078826, 10, 11),\n",
              " (3232560085755078826, 12, 13),\n",
              " (3232560085755078826, 14, 15),\n",
              " (3232560085755078826, 28, 29)]"
            ]
          },
          "metadata": {},
          "execution_count": 65
        }
      ]
    },
    {
      "cell_type": "code",
      "source": [
        "for match in matches:\n",
        "  print(match)\n",
        "  print(match[1], match[2])\n",
        "  print(sentence_nlp[match[1]:match[2]])"
      ],
      "metadata": {
        "id": "QAk7ysBveqbm",
        "outputId": "3ed54d59-e507-4433-987c-f964f593e3ed",
        "colab": {
          "base_uri": "https://localhost:8080/"
        }
      },
      "id": "QAk7ysBveqbm",
      "execution_count": 63,
      "outputs": [
        {
          "output_type": "stream",
          "name": "stdout",
          "text": [
            "(3232560085755078826, 4, 5)\n",
            "4 5\n",
            "We\n",
            "(3232560085755078826, 7, 8)\n",
            "7 8\n",
            "you\n",
            "(3232560085755078826, 10, 11)\n",
            "10 11\n",
            "us\n",
            "(3232560085755078826, 12, 13)\n",
            "12 13\n",
            "I\n",
            "(3232560085755078826, 14, 15)\n",
            "14 15\n",
            "you\n",
            "(3232560085755078826, 28, 29)\n",
            "28 29\n",
            "you\n"
          ]
        }
      ]
    },
    {
      "cell_type": "code",
      "source": [
        "## i want to get all word which are POS is verb:\n",
        "from spacy.matcher import Matcher\n",
        "pattern  = [{\"POS\" : \"VERB\"}]\n",
        "matcher = Matcher(nlp.vocab)\n",
        "matcher.add(\"Xuan_verb\", [pattern])\n",
        "matches = matcher(sentence_nlp)\n",
        "matches"
      ],
      "metadata": {
        "id": "HVjc0RA4hVeC",
        "outputId": "7254bde2-8973-4c88-d222-61f45c8d92a0",
        "colab": {
          "base_uri": "https://localhost:8080/"
        }
      },
      "id": "HVjc0RA4hVeC",
      "execution_count": 67,
      "outputs": [
        {
          "output_type": "execute_result",
          "data": {
            "text/plain": [
              "[(12677970557749086960, 9, 10),\n",
              " (12677970557749086960, 13, 14),\n",
              " (12677970557749086960, 16, 17),\n",
              " (12677970557749086960, 26, 27),\n",
              " (12677970557749086960, 30, 31)]"
            ]
          },
          "metadata": {},
          "execution_count": 67
        }
      ]
    },
    {
      "cell_type": "markdown",
      "source": [
        "### **<font color='blue'>Handling HTML Text**"
      ],
      "metadata": {
        "id": "r4UMluk7nK9S"
      },
      "id": "r4UMluk7nK9S"
    },
    {
      "cell_type": "markdown",
      "source": [
        "Python's Beautiful Soup package can extract data from HTML and XML files. It works with your preferred parser to offer idiomatic ways of navigating, searching, and modifying the parse tree. It helps programmers to save hours or even days of effort.\n",
        "\n",
        "https://beautiful-soup-4.readthedocs.io/en/latest/"
      ],
      "metadata": {
        "id": "1W29VEgynPwi"
      },
      "id": "1W29VEgynPwi"
    },
    {
      "cell_type": "code",
      "source": [
        "url = \"https://www.fao.org/newsroom/detail/world-food-prices-dip-in-december/en\"\n",
        "from bs4 import BeautifulSoup\n",
        "import requests"
      ],
      "metadata": {
        "id": "SgkO_luJnJgY"
      },
      "id": "SgkO_luJnJgY",
      "execution_count": 84,
      "outputs": []
    },
    {
      "cell_type": "code",
      "source": [
        "xu = requests.get(url)\n",
        "xu.content"
      ],
      "metadata": {
        "id": "bU-wgXyqn_Ck",
        "outputId": "0e679eaa-0fd3-48c6-d092-3aabaa1380c8",
        "colab": {
          "base_uri": "https://localhost:8080/"
        }
      },
      "id": "bU-wgXyqn_Ck",
      "execution_count": 85,
      "outputs": [
        {
          "output_type": "execute_result",
          "data": {
            "text/plain": [
              "b' <!DOCTYPE html> <html lang=\"en\" > <head> <meta charset=\"utf-8\" /> <meta name=\"viewport\" content=\"width=device-width, initial-scale=1, shrink-to-fit=no\"> <title>\\r\\n\\tWorld food prices dip in December\\r\\n</title> <script src=\"/ScriptResource.axd?d=6DQe8ARl7A9TiuWej5ttCsl0UxczkFZDbeL5SW9kKwZezKThjMd6CKk80af9FalSKa-iav7TTDncR2lY8pDjm3GfAJE4PtQDLQKTHvlXubFpiBl5L2i8chWLcfOXJghIDWVmV7HDcMgBha1sHF1HkvsG2gh96v6WMgcTICorlXSyCWKJN2ZyaRZDDb4Aqzqr0&amp;t=ffffffff927db8ce\" type=\"text/javascript\"></script><script src=\"/ScriptResource.axd?d=dJqyoTStQGFGCcNtOAFUctOJCyRSc4yqRSI73XwbovU6PqQZNxY5Jab6ztzk0jR2v15jaQwx5m7sZ2LBg2R5cNaMfc1Ynq6w7hu7U6LHIIUYD9BMNEqbMN8G3rrnYR21-ohEwKgwd6kg6S14vSY1Azk4DOa5MZRU7k3Nb6LhruAi6AUkTnPHZfP7Z5vwie_Q0&amp;t=ffffffff927db8ce\" type=\"text/javascript\"></script><script src=\"https://cse.google.com/cse.js?cx=018170620143701104933%3Aqq82jsfba7w\" type=\"text/javascript\"></script><link href=\"/ResourcePackages/Bootstrap5/assets/dist/css/main.min.css?v=5.3.3&amp;package=FAO\" rel=\"stylesheet\" type=\"text/css\" /> <link href=\"/ResourcePackages/FAO/assets/dist/css/fao-theme.min.css?v=2.36.3&amp;package=FAO\" rel=\"stylesheet\" type=\"text/css\" /> <link rel=\"shortcut icon\" href=\"/docs/corporatelibraries/default-document-library/favicon/favicon.ico\" /><!-- Google Tag Manager -->\\r\\n  <!-- Google Tag Manager Source Identification start -->\\r\\n<script type=\"text/javascript\">\\r\\nwindow.dataLayer = window.dataLayer || [];\\r\\nwindow.dataLayer.push({\\r\\n \\'event\\': \\'pageType\\',\\r\\n \\'cmsType\\': \\'SITEFINITY\\'\\r\\n });\\r\\n</script>\\r\\n  <!-- Google Tag Manager Source Identification end -->\\r\\n<script type=\"text/javascript\">(function(w,d,s,l,i){w[l]=w[l]||[];w[l].push({\\'gtm.start\\':\\r\\nnew Date().getTime(),event:\\'gtm.js\\'});var f=d.getElementsByTagName(s)[0],\\r\\nj=d.createElement(s),dl=l!=\\'dataLayer\\'?\\'&l=\\'+l:\\'\\';j.async=true;j.src=\\r\\n\\'https://www.googletagmanager.com/gtm.js?id=\\'+i+dl;f.parentNode.insertBefore(j,f);\\r\\n})(window,document,\\'script\\',\\'dataLayer\\',\\'GTM-NHPTQQS\\');</script>\\r\\n<!-- End Google Tag Manager -->\\r\\n  \\r\\n<!-- Enable google search console verified Owners  -->   \\r\\n<meta name=\"google-site-verification\" content=\"B3uplHPjPrk8RS6Qq9SBwX1o3cjrBUvK4FbjdsKiUXI\" />\\r\\n\\r\\n<meta name=\"google-site-verification\" content=\"zB-tLVNkC_1LLXke_Ma8oeDFDOfsJVIJ2SDsyAdOZq8\" /><meta property=\"twitter:title\" content=\"World food prices dip in December\" /><meta property=\"description\" content=\"FAO Food Price Index ends 2022 lower than a year earlier.\" /><meta property=\"og:description\" content=\"FAO Food Price Index ends 2022 lower than a year earlier.\" /><meta property=\"twitter:description\" content=\"FAO Food Price Index ends 2022 lower than a year earlier.\" /><meta property=\"og:image\" content=\"https://www.fao.org/images/newsroomlibraries/default-album/fao_25042_1608.jpg?sfvrsn=afcb0cd1_5\" /><meta property=\"twitter:image:src\" content=\"https://www.fao.org/images/newsroomlibraries/default-album/fao_25042_1608.jpg?sfvrsn=afcb0cd1_5\" /><meta property=\"twitter:image\" content=\"https://www.fao.org/images/newsroomlibraries/default-album/fao_25042_1608.jpg?sfvrsn=afcb0cd1_5\" /><meta property=\"og:image:type\" content=\"image/jpg\" /><meta property=\"og:image:width\" content=\"1862\" /><meta property=\"og:image:height\" content=\"992\" /><meta property=\"og:image:secure_url\" content=\"https://www.fao.org/images/newsroomlibraries/default-album/fao_25042_1608.jpg?sfvrsn=afcb0cd1_5\" /><meta property=\"og:image:url\" content=\"https://www.fao.org/images/newsroomlibraries/default-album/fao_25042_1608.jpg?sfvrsn=afcb0cd1_5\" /><meta property=\"twitter:card\" content=\"summary_large_image\" /><meta property=\"twitter:site\" content=\"@FAO\" /><meta property=\"twitter:creator\" content=\"@FAO\" /><meta property=\"twitter:account_id\" content=\"19649135\" /><meta property=\"og:title\" content=\"World food prices dip in December\" /><meta property=\"og:type\" content=\"website\" /><meta property=\"og:url\" content=\"https://www.fao.org/newsroom/detail/world-food-prices-dip-in-december/en\" /><meta property=\"twitter:url\" content=\"https://www.fao.org/newsroom/detail/world-food-prices-dip-in-december/en\" /><meta property=\"og:site_name\" content=\"Newsroom\" /><link rel=\"canonical\" href=\"https://www.fao.org/newsroom/detail/world-food-prices-dip-in-december/en\" /><script type=\"application/json\" id=\"sf-insight-metadata\">\\r\\n\\t{\"contentMetadata\":\"{\\\\\"Id\\\\\":\\\\\"c0d6a30e-f202-4933-b5c7-39c582d29070\\\\\",\\\\\"ContentType\\\\\":\\\\\"FaoNews\\\\\",\\\\\"Title\\\\\":\\\\\"World food prices dip in December\\\\\",\\\\\"CanonicalTitle\\\\\":\\\\\"World food prices dip in December\\\\\",\\\\\"CanonicalUrl\\\\\":\\\\\"https://www.fao.org/newsroom/detail/en/world-food-prices-dip-in-december\\\\\",\\\\\"Language\\\\\":\\\\\"en\\\\\",\\\\\"CreatedOn\\\\\":\\\\\"2023-01-06T06:25:50Z\\\\\",\\\\\"ModifiedOn\\\\\":\\\\\"2023-01-12T10:45:42.893Z\\\\\",\\\\\"SiteId\\\\\":\\\\\"417e3837-5a35-42dd-b5ce-3ec0e8208fee\\\\\",\\\\\"SiteName\\\\\":\\\\\"Newsroom\\\\\",\\\\\"ModuleName\\\\\":\\\\\"FAO News\\\\\",\\\\\"SFDataProviderName\\\\\":\\\\\"newsroomfaonews\\\\\",\\\\\"PageId\\\\\":\\\\\"485bd31b-ba60-4dec-a482-48f9ba616640\\\\\",\\\\\"PageTitle\\\\\":\\\\\"detail\\\\\",\\\\\"PageCanonicalTitle\\\\\":\\\\\"detail\\\\\",\\\\\"PageCanonicalUrl\\\\\":\\\\\"https://www.fao.org/newsroom/detail/en\\\\\"}\",\"videosMetadata\":\"[]\"}\\r\\n</script><script type=\"application/json\" id=\"sf-insight-settings\">\\r\\n\\t{\"apiServerUrl\":\"https://nl-api.insight.sitefinity.com\",\"apiKey\":\"809d83af-d9fd-a484-f0d9-1cecdf4742c7\",\"applicationName\":\"Website\",\"trackingCookieDomain\":\"\",\"keepDecTrackingCookieOnTrackingConsentRejection\":false,\"slidingExpirationForTrackingCookie\":false,\"maxAgeForTrackingCookieInDays\":365,\"trackYouTubeVideos\":true,\"crossDomainTrackingEntries\":[\"www.fao.org/in-action/redspaa\",\"www.fao.org/in-action/sustainable-aquaculture-partnership\",\"www.fao.org/cfs/cfs-hlpe\",\"www.fao.org/aphca\",\"www.fao.org/employment\",\"www.fao.org/communication-for-development\",\"www.fao.org/aprc36-dialogue\",\"www.fao.org/africa\",\"www.fao.org/gef\",\"www.fao.org/in-action/fao-campus\",\"www.fao.org/in-action/integrated-monitoring-initiative-sdg6\",\"www.fao.org/gift-individual-food-consumption\",\"www.fao.org/forestry\",\"www.fao.org/jefca-toolbox-veterinary-drugs-assessment\",\"www.fao.org/technical-cooperation-programme\",\"sfcs.fao.org/office-of-sustainable-development-goals\",\"www.fao.org/in-action/ectad\",\"www.fao.org/evaluation\",\"www.fao.org/food-labelling\",\"www.fao.org/gcf\",\"www.fao.org/forestry/firemanagement\",\"www.fao.org/ectad\",\"www.fao.org/ecosystem-restoration-monitoring\",\"www.fao.org/eifaac\",\"www.fao.org/markets-and-trade\",\"www.fao.org/world-food-day\",\"www.fao.org/platforms/green-agriculture\",\"www.fao.org/plant-health-day\",\"www.fao.org/evidence-platform-agri-food-systems-nutrition\",\"www.fao.org/in-action/blue-ports-initiative\",\"www.fao.org/cambodia\",\"www.fao.org/europe\",\"www.fao.org/partnerships/academia\",\"www.fao.org/about/strategy-programme-budget\",\"www.fao.org/biotechnology\",\"www.fao.org/aid-monitor\",\"www.fao.org/syria\",\"www.fao.org/in-action/social-protection-for-fisheries-and-aquaculture\",\"www.fao.org/in-action/saga\",\"www.fao.org/camelids-2024\",\"fao.org/in-action/drought-portal\",\"www.fao.org/mountain-partnership\",\"www.fao.org/forestry/statistics\",\"www.fao.org/good-hygiene-practices-haccp-toolbox\",\"www.fao.org/in-action/eu-streit-png\",\"www.fao.org/in-action/fish-aquatic-food-school-meals\",\"www.fao.org/2019-ncov\",\"www.fao.org/animal-production\",\"www.fao.org/world-bee-day\",\"www.fao.org/climate-change/knowledge-hub\",\"www.fao.org/in-action/mafap\",\"www.fao.org/social-protection\",\"www.fao.org/plant-production-protection\",\"www.fao.org/europeanunion\",\"www.fao.org/world-cotton-day\",\"www.fao.org/silva-mediterranea\",\"www.fao.org/digital-villages-initiative/europe\",\"www.fao.org/platforms/school-food\",\"www.fao.org/agriculture/fao-iaea-nuclear-techniques\",\"www.fao.org/americas/publicaciones/panorama\",\"www.fao.org/digital-villages-initiative/africa\",\"www.fao.org/member-countries\",\"www.fao.org/ccp\",\"www.fao.org/platforms/afras\",\"www.fao.org/in-action/building-forward-better\",\"www.fao.org/publications/library\",\"www.fao.org/ethics\",\"www.fao.org/in-action/developpement-agricole-acces-marche-padaam\",\"www.fao.org/newsroom\",\"www.fao.org/contact-us\",\"www.fao.org/platforms/family-farming\",\"www.fao.org/gender\",\"www.fao.org/event/world-forestry-congress\",\"www.fao.org/platform-food-loss-waste/regions/neareast\",\"www.fao.org/food-agriculture-microdata\",\"www.fao.org/in-action/south-south-digital-transformation-innovation\",\"www.fao.org/cgrfa\",\"www.fao.org/locust-watch\",\"www.fao.org/fish4acp\",\"www.fao.org/fishery-divisional-structure\",\"www.fao.org/pollination\",\"www.fao.org/in-action/mercados-tradicionales-alimentos\",\"www.fao.org/forestry/pests\",\"www.fao.org/arc32-dialogue\",\"www.fao.org/in-focus\",\"www.fao.org/in-action/scalewat\",\"www.unfoodsystemshub.org\",\"www.fao.org/sustainable-development-goals-data-portal\",\"www.fao.org/in-action/remote-sensing-for-water-productivity\",\"www.fao.org/forestry/food-security\",\"www.fao.org/in-action/resilient-caribbean-initiative\",\"www.fao.org/multimedia\",\"www.fao.org/in-action/scala\",\"www.fao.org/in-action/central-asian-animal-health-network\",\"www.fao.org/arc33-dialogue\",\"www.fao.org/in-action/sepal\",\"www.fao.org/giahs\",\"www.fao.org/platforms/common-practices\",\"www.fao.org/policy-support\",\"www.fao.org/platform-food-loss-waste\",\"www.fao.org/livestock-environment\",\"www.fao.org/transparency\",\"www.fao.org/about/who-we-are/departments/food-nutrition-division\",\"www.fao.org/gaez\",\"youth.world-food-forum.org\",\"www.fao.org/coag\",\"www.fao.org/cofi/fish-management\",\"www.fao.org/forestry/nwfp\",\"www.fao.org/russian-federation\",\"www.fao.org/themes\",\"www.fao.org/green-cities-initiative\",\"www.fao.org/fao-office-climate-change-biodiversity-environment\",\"www.fao.org/world-water-day\",\"www.fao.org/aprc37-dialogue\",\"www.fao.org/cofi\",\"www.fao.org/hand-in-hand\",\"www.fao.org/sids-solutions\",\"www.fao.org/new-york\",\"www.fao.org/director-general\",\"www.fao.org/science-technology-and-innovation\",\"www.fao.org/transboundary-plant-pests-diseases\",\"www.fao.org/codex-food-standards-zoonotic-diseases\",\"www.fao.org/in-action/global-network-digital-agriculture-innovation-hubs\",\"www.fao.org/in-action/enhancing-land-consolidation\",\"www.fao.org/brussels\",\"www.fao.org/platforms/water-scarcity\",\"www.fao.org/in-action/aquatic-health-management-biosecurity\",\"www.fao.org/audit-and-investigations\",\"www.fao.org/joint-programme-gender-transformative-approaches\",\"www.fao.org/animal-health\",\"www.fao.org/in-action/globefish\",\"www.fao.org/food-systems\",\"www.fao.org/liberia\",\"sfcs.fao.org/coag-livestock\",\"www.fao.org/agriculture/animal-production-and-health\",\"www.fao.org/republic-of-korea\",\"www.fao.org/mozambique\",\"www.fao.org/in-action/global-strategy-agricultural-statistics\",\"www.fao.org/in-action/forest-landscape-restoration-mechanism\",\"www.fao.org/blog/afghanistan-diaries\",\"www.fao.org/datalab\",\"www.fao.org/genetic-resources\",\"www.fao.org/family-farming-engagement\",\"www.fao.org/in-action/forest-landscape-restoration-asia\",\"www.fao.org/about\",\"www.fao.org/apfic\",\"www.fao.org/statistics/caliper\",\"www.fao.org/asfa\",\"www.fao.org/digital-villages-initiative/asia-pacific\",\"www.fao.org/food-coalition\",\"www.fao.org/geographical-indications\",\"www.fao.org/home\",\"www.fao.org/partnerships/resource-partners\",\"www.fao.org/in-action/sustainable-fisheries-aquaculture-mediterranean\",\"www.fao.org/publications\",\"www.fao.org/inclusivity-in-agrifood-systems\",\"www.fao.org/jordan\",\"www.fao.org/japan\",\"www.fao.org/fao-awards\",\"www.fao.org/estotems\",\"www.fao.org/in-action/farmers-organization-africa-caribbean-pacific\",\"www.fao.org/el-nino\",\"www.fao.org/in-action/aim4forests\",\"www.fao.org/in-action/pesticides-central-asia\",\"www.fao.org/indigenous-peoples\",\"www.fao.org/united-arab-emirates\",\"www.fao.org/biodiversity\",\"www.fao.org/in-action/water-for-nutrition\",\"www.fao.org/international-tea-day\",\"www.fao.org/investment-centre\",\"www.fao.org/urban-peri-urban-agriculture\",\"www.fao.org/documents\",\"www.fao.org/childlabouragriculture\",\"www.fao.org/climate-change\",\"www.fao.org/collaborative-partnership-on-forests\",\"www.fao.org/emergencies\",\"www.fao.org/nobel-for-foodsecurity-peace\",\"www.fao.org/hih-geospatial-platform\",\"www.fao.org/in-action/rural-livelihoods-dataset-rulis\",\"www.fao.org/governing-bodies\",\"www.fao.org/in-action/climate-change-transparency\",\"www.fao.org/regional-sofi\",\"www.fao.org/in-action/swm-programme\",\"www.fao.org/in-action/global-bioenergy-partnership\",\"www.fao.org/rural-youth\",\"www.fao.org/protection-sexual-exploitation-and-abuse-psea\",\"www.fao.org/forests\",\"www.world-food-forum.org\",\"www.fao.org/one-country-one-priority-product\",\"www.fao.org/in-action/think-pa\",\"www.fao.org/events\",\"www.fao.org/statistics\",\"www.fao.org/office-of-innovation\",\"www.fao.org/bhutan\",\"www.fao.org/fao-italy\",\"www.fao.org/voluntary-guidelines-small-scale-fisheries\",\"www.fao.org/in-action/openforis\",\"www.fao.org/in-action/dryland-sustainable-landscapes\",\"www.fao.org/sustainable-development-goals-helpdesk\",\"www.fao.org/environmental-social-safeguards\",\"www.fao.org/digital-services\",\"www.fao.org/forest-monitoring\",\"www.fao.org/socioeconomic-research-analysis\",\"www.fao.org/agroinformatics\",\"www.fao.org/right-to-food\",\"www.fao.org/lebanon\",\"www.fao.org/corporatepage\",\"www.fao.org/one-health\",\"www.fao.org/north-america\",\"www.fao.org/egypt\",\"www.fao.org/millets-2023\",\"www.fao.org/asiapacific\",\"www.fao.org/food-agriculture-sustainable-transformation-partnership\",\"www.fao.org/about/fao-in-review\",\"www.fao.org/about/visit-us\",\"www.fao.org/communications\",\"www.fao.org/forestry/sfm\",\"www.fao.org/in-action/forest-data-partnership\",\"www.fao.org/in-action/canary-current-lme\",\"www.fao.org/worldfoodsituation\",\"www.fao.org/in-action/boosting-transparency-forest-data\",\"www.fao.org/sustainable-gastronomy-day\",\"www.fao.org/partnerships/fao-un-system\",\"www.fao.org/americas\",\"www.fao.org/world-pulses-day\",\"www.fao.org/partnerships/healthy-diets-coalition\",\"sfcs.fao.org/forestry/mangrove\",\"www.fao.org/dairy-production-products\",\"www.fao.org/in-action/eostat\",\"www.fao.org/neareast\",\"www.fao.org/geneva\",\"www.fao.org/hunger\",\"www.fao.org/campaign\",\"www.fao.org/markets-and-trade/corporate\",\"www.fao.org/agroforestry\",\"www.fao.org/in-action/enteric-methane\",\"www.fao.org/in-action/indonesian-seas-large-marine-ecosystem\",\"www.fao.org/international-potato-day\",\"www.fao.org/strategic-framework\"],\"strategy\":\"Persist|False\",\"docsHrefTestExpressions\":[\".*\\\\\\\\/docs\\\\\\\\/.+\\\\\\\\.{1}.+((\\\\\\\\?|\\\\\\\\\\\\u0026)sfvrsn=.+){1}$\",\".+((\\\\\\\\?|\\\\\\\\\\\\u0026)sf_dm_key=.+){1}$\"],\"sessionLengthInMinutes\":30,\"trackVimeoVideos\":true,\"useSecureCookies\":true}\\r\\n</script><script type=\"text/javascript\" src=\"/WebResource.axd?d=HtQyXelCu6mzSPcVcvK_BhLwAkuC9t5TYaBV11a0cHh0IhdhSdfYL1cMo4yUQgqYBmnTC8bAkgxzpTnmSrBknjeNIKIBRUjeHTgYBbsvtj8vF4zb-e_KjKPth6ehdBW3qQH244ykhZSQ7OBfn3wupYkhsgi3STMs3w8gCLKj-AnZVsto12IouToKcLIAc0eYh8KLFWJYLVKLEsXRkC_FGaZxzLllPdKq1twUvbf5RZ41&amp;t=638575176320000000\">\\r\\n\\r\\n</script><script src=\"https://cdn.insight.sitefinity.com/sdk/sitefinity-insight-client.min.3.1.35.js\" crossorigin=\"\" async=\"async\">\\r\\n\\r\\n</script><link rel=\"alternate\" href=\"https://www.fao.org/newsroom/en\" hreflang=\"en\" /><link rel=\"alternate\" href=\"https://www.fao.org/newsroom/ar\" hreflang=\"ar\" /><link rel=\"alternate\" href=\"https://www.fao.org/newsroom/zh\" hreflang=\"zh\" /><link rel=\"alternate\" href=\"https://www.fao.org/newsroom/fr\" hreflang=\"fr\" /><link rel=\"alternate\" href=\"https://www.fao.org/newsroom/ru\" hreflang=\"ru\" /><link rel=\"alternate\" href=\"https://www.fao.org/newsroom/es\" hreflang=\"es\" /><link rel=\"alternate\" href=\"https://www.fao.org/newsroom/it\" hreflang=\"it\" /><meta name=\"description\" content=\"News detail\" /></head> <body>  <div> \\r\\n\\r\\n\\r\\n\\r\\n<!-- Google Tag Manager (noscript) -->\\r\\n<noscript><iframe src=\"https://www.googletagmanager.com/ns.html?id=GTM-NHPTQQS\"\\r\\nheight=\"0\" width=\"0\" style=\"display:none;visibility:hidden\"></iframe></noscript> \\r\\n<!-- End Google Tag Manager (noscript) --><header class=\"fao-header corporate-header\" data-page-edit-prevent=\"true\">\\r\\n    <div class=\"container\">\\r\\n        <div class=\"row\">\\r\\n            <div class=\"header-wrapper col-12\">\\r\\n                <div id=\"Contentplaceholder1_T78DBE6AB022_Col00\" class=\"sf_colsIn fao-header-left\" data-sf-element=\"Header Left\" data-placeholder-label=\"Header Left\">\\r\\n<div >\\r\\n    <div class=\"sfContentBlock sf-Long-text\" ><a href=\"https://www.fao.org\"><img src=\"/images/corporatelibraries/fao-logo/fao-logo-en.svg?sfvrsn=f64522b4_36\" title=\"Food and Agriculture Organization of the United Nations\" data-displaymode=\"Original\" alt=\"Food and Agriculture Organization of the United Nations\" class=\"header-fao-logo\"></a></div>\\r\\n</div>\\r\\n                </div>\\r\\n                <div id=\"Contentplaceholder1_T78DBE6AB022_Col01\" class=\"sf_colsIn fao-header-right\" data-sf-element=\"Header Right\" data-placeholder-label=\"Header Right\">\\r\\n<div class=\"dropdown discover-dropdown\">\\r\\n    <button class=\"btn btn-secondary dropdown-toggle\" type=\"button\" id=\"dropdownDiscoverMenu\" data-bs-toggle=\"dropdown\" aria-haspopup=\"true\" aria-expanded=\"false\">\\r\\n        Discover\\r\\n    </button>\\r\\n    <div class=\"dropdown-menu\" aria-labelledby=\"dropdownDiscoverMenu\">\\r\\n            <a class=\"dropdown-item\" href=\"http://www.fao.org/about/en/\" target=\"_self\">About FAO</a>\\r\\n            <a class=\"dropdown-item\" href=\"http://www.fao.org/in-action/en/\" target=\"_self\">In action</a>\\r\\n            <a class=\"dropdown-item\" href=\"http://www.fao.org/news/en/\" target=\"_self\">Media</a>\\r\\n            <a class=\"dropdown-item\" href=\"http://www.fao.org/themes/en/\" target=\"_self\">Main topics</a>\\r\\n            <a class=\"dropdown-item\" href=\"http://www.fao.org/statistics/en/\" target=\"_self\">Resources</a>\\r\\n            <a class=\"dropdown-item\" href=\"http://www.fao.org/countryprofiles/en/\" target=\"_self\">Member countries</a>\\r\\n            <a class=\"dropdown-item\" href=\"http://www.fao.org/partnerships/en/\" target=\"_self\">Get involved</a>\\r\\n    </div>\\r\\n</div>\\r\\n\\r\\n\\r\\n<div class=\"dropdown language-switch\" aria-label=\"Change Language\" role=\"menu\">\\r\\n        <button role=\"menuitem\" class=\"btn btn-secondary dropdown-toggle\" type=\"button\" id=\"dropdownLanguageMenu\" data-bs-toggle=\"dropdown\" aria-label=\"ENGLISH\" aria-haspopup=\"true\" aria-expanded=\"false\">\\r\\n            English\\r\\n        </button>\\r\\n        <div class=\"dropdown-menu\" id=\"faoLanguageSelector\" aria-labelledby=\"dropdownLanguageMenu\">\\r\\n                    <a role=\"menuitem\" class=\"dropdown-item\" data-sf-culture=\"ar\" href=\"\"  aria-label=\"\\xd8\\xa7\\xd9\\x84\\xd8\\xb9\\xd8\\xb1\\xd8\\xa8\\xd9\\x8a\\xd8\\xa9\" onclick=\"openLink(\\'ar\\'); return false;\">\\xd8\\xa7\\xd9\\x84\\xd8\\xb9\\xd8\\xb1\\xd8\\xa8\\xd9\\x8a\\xd8\\xa9</a>\\r\\n                    <a role=\"menuitem\" class=\"dropdown-item\" data-sf-culture=\"zh\" href=\"\"  aria-label=\"\\xe4\\xb8\\xad\\xe6\\x96\\x87\" onclick=\"openLink(\\'zh\\'); return false;\">\\xe4\\xb8\\xad\\xe6\\x96\\x87</a>\\r\\n                    <a role=\"menuitem\" class=\"dropdown-item\" data-sf-culture=\"fr\" href=\"\"  aria-label=\"Fran&#231;ais\" onclick=\"openLink(\\'fr\\'); return false;\">Fran&#231;ais</a>\\r\\n                    <a role=\"menuitem\" class=\"dropdown-item\" data-sf-culture=\"ru\" href=\"\"  aria-label=\"\\xd0\\xa0\\xd1\\x83\\xd1\\x81\\xd1\\x81\\xd0\\xba\\xd0\\xb8\\xd0\\xb9\" onclick=\"openLink(\\'ru\\'); return false;\">\\xd0\\xa0\\xd1\\x83\\xd1\\x81\\xd1\\x81\\xd0\\xba\\xd0\\xb8\\xd0\\xb9</a>\\r\\n                    <a role=\"menuitem\" class=\"dropdown-item\" data-sf-culture=\"es\" href=\"\"  aria-label=\"Espa&#241;ol\" onclick=\"openLink(\\'es\\'); return false;\">Espa&#241;ol</a>\\r\\n                    <a role=\"menuitem\" class=\"dropdown-item\" data-sf-culture=\"it\" href=\"\"  aria-label=\"Italiano\" onclick=\"openLink(\\'it\\'); return false;\">Italiano</a>\\r\\n        </div>\\r\\n</div>\\r\\n\\r\\n\\r\\n\\r\\n<script type=\"text/javascript\">\\r\\n\\r\\n    document.onreadystatechange = function () {\\r\\n        if (document.readyState == \"interactive\") {\\r\\n            initializeLanguageSelector();\\r\\n        }\\r\\n    }\\r\\n\\r\\n</script>\\r\\n<div >\\r\\n    <div class=\"sfContentBlock sf-Long-text\" ><div class=\"header-icons\"><a href=\"#\" data-bs-toggle=\"modal\" data-bs-target=\"#shareModal\" data-sf-ec-immutable=\"\" aria-label=\"Share\"><em class=\"bi bi-share-fill\"></em></a>\\n <a data-bs-toggle=\"collapse\" href=\"#collapseSearchBox\" data-sf-ec-immutable=\"\" aria-label=\"Search\"><em class=\"bi bi-search\"></em></a>\\n</div></div>\\r\\n</div>\\r\\n\\r\\n                </div>\\r\\n            </div>\\r\\n        </div>\\r\\n        <div class=\"row\">\\r\\n            <div id=\"Contentplaceholder1_T78DBE6AB022_Col02\" class=\"sf_colsIn col-12\" data-sf-element=\"Header Bottom\" data-placeholder-label=\"Header Bottom\">\\r\\n\\r\\n\\r\\n\\r\\n<div class=\"collapse\" id=\"collapseSearchBox\">\\r\\n    <div class=\"search-container search-results-container\">\\r\\n        <div class=\"gcse-searchbox-only\" data-resultsUrl=\"https://www.fao.org/home/search/en/\"></div>\\r\\n    </div>\\r\\n</div>\\r\\n            </div>\\r\\n        </div>\\r\\n    </div>\\r\\n    <div class=\"navBarContainer\">\\r\\n        <div id=\"Contentplaceholder1_T78DBE6AB022_Col03\" class=\"sf_colsIn col-12\" data-sf-element=\"Navigation Bar\" data-placeholder-label=\"Navigation Bar\" style=\"padding-left:0px; padding-right:0px\">\\r\\n\\r\\n\\r\\n<nav class=\"navbar navbar-expand-lg navbar-light bg-light navbar-corporate\">\\r\\n\\t<div class=\"container\">\\r\\n\\t\\t<button class=\"navbar-toggler my-2\" type=\"button\" data-bs-toggle=\"collapse\" data-bs-target=\"#navbarNav\"\\r\\n\\t\\t\\t\\taria-controls=\"navbarNav\" aria-expanded=\"false\" aria-label=\"Toggle navigation\">\\r\\n\\t\\t\\t<span class=\"navbar-toggler-icon\"></span>\\r\\n\\t\\t</button>\\r\\n\\t\\t<div class=\"collapse navbar-collapse\" id=\"navbarNav\">\\r\\n\\t\\t\\t<ul class=\"navbar-nav justify-content-between\">\\r\\n\\t<li class=\"nav-item dropdown\">\\r\\n\\t\\t<a class=\"nav-link dropdown-toggle\" href=\"#\" id=\"navbarDropdown-1_7139813a-2cbc-4a0f-9339-ef2f1520dbaf\" role=\"button\"\\r\\n\\t\\t   data-bs-toggle=\"dropdown\"\\r\\n\\t\\t   aria-haspopup=\"true\" aria-expanded=\"false\">\\r\\n\\t\\t\\tAbout FAO\\r\\n\\t\\t</a>\\r\\n\\t\\t<div class=\"dropdown-menu\" aria-labelledby=\"navbarDropdown-1_7139813a-2cbc-4a0f-9339-ef2f1520dbaf\">\\r\\n\\t\\t\\t<div class=\"container\" id=\"navbarDropdownContent-1_7139813a-2cbc-4a0f-9339-ef2f1520dbaf\">\\r\\n\\t\\t\\t\\tLoading...\\r\\n\\t\\t\\t</div>\\r\\n\\t\\t</div>\\r\\n\\t</li>\\r\\n\\t<li class=\"nav-item dropdown\">\\r\\n\\t\\t<a class=\"nav-link dropdown-toggle\" href=\"#\" id=\"navbarDropdown-1_fdbfc60f-11ed-49b6-bbc8-55e9c017cbab\" role=\"button\"\\r\\n\\t\\t   data-bs-toggle=\"dropdown\"\\r\\n\\t\\t   aria-haspopup=\"true\" aria-expanded=\"false\">\\r\\n\\t\\t\\tNews\\r\\n\\t\\t</a>\\r\\n\\t\\t<div class=\"dropdown-menu\" aria-labelledby=\"navbarDropdown-1_fdbfc60f-11ed-49b6-bbc8-55e9c017cbab\">\\r\\n\\t\\t\\t<div class=\"container\" id=\"navbarDropdownContent-1_fdbfc60f-11ed-49b6-bbc8-55e9c017cbab\">\\r\\n\\t\\t\\t\\tLoading...\\r\\n\\t\\t\\t</div>\\r\\n\\t\\t</div>\\r\\n\\t</li>\\r\\n\\t<li class=\"nav-item dropdown\">\\r\\n\\t\\t<a class=\"nav-link dropdown-toggle\" href=\"#\" id=\"navbarDropdown-1_0e586391-0f07-4398-b111-c6836c9fde1e\" role=\"button\"\\r\\n\\t\\t   data-bs-toggle=\"dropdown\"\\r\\n\\t\\t   aria-haspopup=\"true\" aria-expanded=\"false\">\\r\\n\\t\\t\\tMultimedia\\r\\n\\t\\t</a>\\r\\n\\t\\t<div class=\"dropdown-menu\" aria-labelledby=\"navbarDropdown-1_0e586391-0f07-4398-b111-c6836c9fde1e\">\\r\\n\\t\\t\\t<div class=\"container\" id=\"navbarDropdownContent-1_0e586391-0f07-4398-b111-c6836c9fde1e\">\\r\\n\\t\\t\\t\\tLoading...\\r\\n\\t\\t\\t</div>\\r\\n\\t\\t</div>\\r\\n\\t</li>\\r\\n\\t<li class=\"nav-item dropdown\">\\r\\n\\t\\t<a class=\"nav-link dropdown-toggle\" href=\"#\" id=\"navbarDropdown-1_56064790-5ff2-4c3a-9229-1af32d7ba2a6\" role=\"button\"\\r\\n\\t\\t   data-bs-toggle=\"dropdown\"\\r\\n\\t\\t   aria-haspopup=\"true\" aria-expanded=\"false\">\\r\\n\\t\\t\\tMain topics\\r\\n\\t\\t</a>\\r\\n\\t\\t<div class=\"dropdown-menu\" aria-labelledby=\"navbarDropdown-1_56064790-5ff2-4c3a-9229-1af32d7ba2a6\">\\r\\n\\t\\t\\t<div class=\"container\" id=\"navbarDropdownContent-1_56064790-5ff2-4c3a-9229-1af32d7ba2a6\">\\r\\n\\t\\t\\t\\tLoading...\\r\\n\\t\\t\\t</div>\\r\\n\\t\\t</div>\\r\\n\\t</li>\\r\\n\\t<li class=\"nav-item dropdown\">\\r\\n\\t\\t<a class=\"nav-link dropdown-toggle\" href=\"#\" id=\"navbarDropdown-1_3b9266c2-c22f-4328-92a7-81e24fb5868c\" role=\"button\"\\r\\n\\t\\t   data-bs-toggle=\"dropdown\"\\r\\n\\t\\t   aria-haspopup=\"true\" aria-expanded=\"false\">\\r\\n\\t\\t\\tStatistics\\r\\n\\t\\t</a>\\r\\n\\t\\t<div class=\"dropdown-menu\" aria-labelledby=\"navbarDropdown-1_3b9266c2-c22f-4328-92a7-81e24fb5868c\">\\r\\n\\t\\t\\t<div class=\"container\" id=\"navbarDropdownContent-1_3b9266c2-c22f-4328-92a7-81e24fb5868c\">\\r\\n\\t\\t\\t\\tLoading...\\r\\n\\t\\t\\t</div>\\r\\n\\t\\t</div>\\r\\n\\t</li>\\r\\n\\t<li class=\"nav-item dropdown\">\\r\\n\\t\\t<a class=\"nav-link dropdown-toggle\" href=\"#\" id=\"navbarDropdown-1_3d132cb0-421d-4049-9c3c-cc85c4933bc9\" role=\"button\"\\r\\n\\t\\t   data-bs-toggle=\"dropdown\"\\r\\n\\t\\t   aria-haspopup=\"true\" aria-expanded=\"false\">\\r\\n\\t\\t\\tMembers\\r\\n\\t\\t</a>\\r\\n\\t\\t<div class=\"dropdown-menu\" aria-labelledby=\"navbarDropdown-1_3d132cb0-421d-4049-9c3c-cc85c4933bc9\">\\r\\n\\t\\t\\t<div class=\"container\" id=\"navbarDropdownContent-1_3d132cb0-421d-4049-9c3c-cc85c4933bc9\">\\r\\n\\t\\t\\t\\tLoading...\\r\\n\\t\\t\\t</div>\\r\\n\\t\\t</div>\\r\\n\\t</li>\\r\\n\\t<li class=\"nav-item dropdown\">\\r\\n\\t\\t<a class=\"nav-link dropdown-toggle\" href=\"#\" id=\"navbarDropdown-1_649221b6-52da-48b8-8e6e-adc374042f1f\" role=\"button\"\\r\\n\\t\\t   data-bs-toggle=\"dropdown\"\\r\\n\\t\\t   aria-haspopup=\"true\" aria-expanded=\"false\">\\r\\n\\t\\t\\tPublications\\r\\n\\t\\t</a>\\r\\n\\t\\t<div class=\"dropdown-menu\" aria-labelledby=\"navbarDropdown-1_649221b6-52da-48b8-8e6e-adc374042f1f\">\\r\\n\\t\\t\\t<div class=\"container\" id=\"navbarDropdownContent-1_649221b6-52da-48b8-8e6e-adc374042f1f\">\\r\\n\\t\\t\\t\\tLoading...\\r\\n\\t\\t\\t</div>\\r\\n\\t\\t</div>\\r\\n\\t</li>\\r\\n\\t\\t\\t</ul>\\r\\n\\t\\t</div>\\r\\n\\t</div>\\r\\n</nav>\\r\\n\\r\\n\\r\\n<script type=\"text/javascript\">\\r\\n\\t(function ($)\\r\\n\\t{\\r\\n\\t\\tvar containerIds = \"navbarDropdownContent-1_7139813a-2cbc-4a0f-9339-ef2f1520dbaf;navbarDropdownContent-1_fdbfc60f-11ed-49b6-bbc8-55e9c017cbab;navbarDropdownContent-1_0e586391-0f07-4398-b111-c6836c9fde1e;navbarDropdownContent-1_56064790-5ff2-4c3a-9229-1af32d7ba2a6;navbarDropdownContent-1_3b9266c2-c22f-4328-92a7-81e24fb5868c;navbarDropdownContent-1_3d132cb0-421d-4049-9c3c-cc85c4933bc9;navbarDropdownContent-1_649221b6-52da-48b8-8e6e-adc374042f1f\".split(\";\");\\r\\n\\t\\tvar urls = \"/corporatepage/about-fao;/corporatepage/media;/corporatepage/multimedia;/corporatepage/main-topics;/corporatepage/statistics;/corporatepage/member-countries;/corporatepage/publications\".split(\";\");\\r\\n\\r\\n\\t\\tfunction loadAllContents()\\r\\n\\t\\t{\\r\\n\\t\\t\\tif (containerIds.length == urls.length)\\r\\n\\t\\t\\t{\\r\\n\\t\\t\\t\\tfor (var i = 0; i < containerIds.length; i++)\\r\\n\\t\\t\\t\\t{\\r\\n\\t\\t\\t\\t\\tloadContent(i);\\t\\t\\t\\t\\r\\n\\t\\t\\t\\t}\\r\\n\\t\\t\\t}\\r\\n\\t\\t}\\r\\n\\r\\n\\t\\tfunction loadContent(index)\\r\\n\\t\\t{\\r\\n\\t\\t\\tvar myIndex = index;\\r\\n\\t\\t\\tif ((urls[myIndex]) && (containerIds[myIndex]))\\r\\n\\t\\t\\t{\\r\\n\\t\\t\\t\\t$(\"#\" + containerIds[myIndex]).load(urls[myIndex] + \" #faoNavContent > *\", function (response, status, xhr)\\r\\n\\t\\t\\t\\t{\\r\\n\\t\\t\\t\\t\\tif (status == \"error\")\\r\\n\\t\\t\\t\\t\\t{\\r\\n\\t\\t\\t\\t\\t\\tvar msg = \"Sorry but there was an error loading \" + urls[myIndex] + \": \";\\r\\n\\t\\t\\t\\t\\t\\tconsole.log(msg + xhr.status + \" \" + xhr.statusText + \" \" + response);\\r\\n\\t\\t\\t\\t\\t}\\r\\n\\t\\t\\t\\t});\\r\\n\\t\\t\\t}\\r\\n\\t\\t\\telse\\r\\n\\t\\t\\t{\\r\\n\\t\\t\\t\\tvar msg = \"Sorry but there was an error, url:\" + urls[myIndex] + \"; container:\" + containerIds[myIndex];\\r\\n\\t\\t\\t}\\r\\n\\t\\t}\\r\\n\\r\\n\\t\\tloadAllContents();\\r\\n\\t})(jQuery);\\r\\n</script>\\r\\n        </div>\\r\\n    </div>\\r\\n</header>\\r\\n<div class=\"container\" data-page-edit-prevent=\"true\">\\r\\n    <div class=\"row\">\\r\\n        <div id=\"Contentplaceholder1_T78DBE6AB022_Col04\" class=\"sf_colsIn col-md-12\" data-sf-element=\"Navigation\" data-placeholder-label=\"Navigation\"><div class=\"row\" data-sf-element=\"Row\">\\r\\n    <div id=\"Contentplaceholder1_T78DBE6AB046_Col00\" class=\"sf_colsIn col-md-12 content-icons d-none\" data-sf-element=\"Column 1\" data-placeholder-label=\"Column 1\">\\r\\n\\r\\n\\r\\n<script type=\"text/javascript\">\\r\\n    document.addEventListener(\\'DOMContentLoaded\\', function () {\\r\\n        var documentTitle = document.title;\\r\\n        if (documentTitle.includes(\"|\")) {\\r\\n            documentTitle = documentTitle.split(\"|\").slice(-1)[0]\\r\\n        }\\r\\n        utility.setBreadcrumbActiveItemTitle(documentTitle);\\r\\n    });\\r\\n</script>\\r\\n\\r\\n<nav aria-label=\"breadcrumb\">\\r\\n    <ol class=\"breadcrumb\">\\r\\n\\r\\n        <li class=\"breadcrumb-item\"><a href=\"https://www.fao.org\">FAO.org</a></li>\\r\\n\\r\\n\\r\\n                    <li class=\"breadcrumb-item\"><a href=\"/newsroom/en\">Home</a></li>\\r\\n                <li class=\"breadcrumb-item active\" aria-current=\"page\">detail</li>\\r\\n    </ol>\\r\\n</nav>\\r\\n\\r\\n\\r\\n    </div>\\r\\n</div>\\r\\n\\r\\n<div class=\"modal modal-share fade\" id=\"shareModal\" tabindex=\"-1\" aria-labelledby=\"shareModalLabel\" aria-hidden=\"true\">\\r\\n    <div class=\"modal-dialog modal-dialog-centered\">\\r\\n        <div class=\"modal-content\">\\r\\n            <div class=\"modal-header\">\\r\\n                <h5 class=\"modal-title\" id=\"shareModalLabel\">\\r\\n                    Share\\r\\n                </h5>\\r\\n                <button type=\"button\" class=\"btn-close\" data-bs-dismiss=\"modal\" aria-label=\"Close\"></button>\\r\\n            </div>\\r\\n            <div class=\"modal-body\">\\r\\n                <ul class=\"list-inline social-icons\">\\r\\n                        <li class=\"list-inline-item\">\\r\\n                            <a href=\"https://www.facebook.com/sharer/sharer.php?u=https://www.fao.org/newsroom/detail/world-food-prices-dip-in-december/en\" alt=\"facebook\" title=\"facebook\" target=\"_blank\">\\r\\n                                <img src=\"/ResourcePackages/FAO/assets/dist/img/social-icons/social-icon-facebook.svg\" alt=\"facebook\">\\r\\n                            </a>\\r\\n                        </li>\\r\\n                                            <li class=\"list-inline-item\">\\r\\n                            <a href=\"https://www.linkedin.com/shareArticle?mini=true&amp;title=detail&amp;url=https://www.fao.org/newsroom/detail/world-food-prices-dip-in-december/en\" alt=\"linkedin\" title=\"linkedin\" target=\"_blank\">\\r\\n                                <img src=\"/ResourcePackages/FAO/assets/dist/img/social-icons/social-icon-linkedin.svg\" alt=\"linkedin\">\\r\\n                            </a>\\r\\n                        </li>\\r\\n                                            <li class=\"list-inline-item\">\\r\\n                            <a href=\"https://pinterest.com/pin/create/button/?url=https://www.fao.org/newsroom/detail/world-food-prices-dip-in-december/en&amp;description=detail\" alt=\"pinterest\" title=\"pinterest\" target=\"_blank\">\\r\\n                                <img src=\"/ResourcePackages/FAO/assets/dist/img/social-icons/social-icon-pinterest.svg\" alt=\"pinterest\">\\r\\n                            </a>\\r\\n                        </li>\\r\\n                                            <li class=\"list-inline-item\">\\r\\n                            <a href=\"https://twitter.com/intent/tweet?text=https://www.fao.org/newsroom/detail/world-food-prices-dip-in-december/en\" alt=\"twitter X\" title=\"twitter X\" target=\"_blank\">\\r\\n                                <img src=\"/ResourcePackages/FAO/assets/dist/img/social-icons/social-icon-twitter-x.svg\" alt=\"twitter\">\\r\\n                            </a>\\r\\n                        </li>\\r\\n                                            <li class=\"list-inline-item\">\\r\\n                            <a href=\"https://service.weibo.com/share/share.php?title=detail&amp;url=https://www.fao.org/newsroom/detail/world-food-prices-dip-in-december/en\" alt=\"weibo\" title=\"weibo\" target=\"_blank\">\\r\\n                                <img src=\"/ResourcePackages/FAO/assets/dist/img/social-icons/social-icon-weibo.svg\" alt=\"weibo\">\\r\\n                            </a>\\r\\n                        </li>\\r\\n                </ul>\\r\\n            </div>\\r\\n            <div class=\"modal-footer\">\\r\\n                <button type=\"button\" class=\"btn btn-primary\" data-bs-dismiss=\"modal\">Close</button>\\r\\n            </div>\\r\\n        </div>\\r\\n    </div>\\r\\n</div>\\r\\n\\r\\n<script type=\"application/ld+json\">\\r\\n    {\\r\\n      \"@context\": \"https://schema.org\",\\r\\n      \"@type\": \"BreadcrumbList\",\\r\\n      \"itemListElement\": [\\r\\n{\"@type\": \"ListItem\",\"position\": 1,\"name\": \"Home\",\"item\": \"https://www.fao.org/newsroom/en\"},{\"@type\": \"ListItem\",\"position\": 2,\"name\": \"detail\",\"item\": \"https://www.fao.org/newsroom/detail/en\"}        ]\\r\\n    }\\r\\n</script>\\r\\n        </div>\\r\\n    </div>\\r\\n</div><div id=\"Contentplaceholder1_C011_Col00\" class=\"sf_colsIn container\" data-sf-element=\"Container\" data-placeholder-label=\"Container\"><div class=\"row\" data-sf-element=\"Row\">\\r\\n<div id=\"Contentplaceholder1_C014_Col00\" class=\"sf_colsIn col-md-12 content-icons d-flex justify-content-end mt-3 text-decoration-none\" data-sf-element=\"Column 1\" data-placeholder-label=\"Column 1\">\\r\\n</div>\\r\\n</div>\\r\\n<div class=\"row\" data-sf-element=\"Row\">\\r\\n    <div id=\"Contentplaceholder1_C015_Col00\" class=\"sf_colsIn col-md-12\" data-sf-element=\"Column 1\" data-placeholder-label=\"Column 1\">\\r\\n\\r\\n\\r\\n\\r\\n\\r\\n\\r\\n\\r\\n\\r\\n\\r\\n<script type=\"application/ld+json\">\\r\\n    {\\r\\n    \"@context\" : \"http://schema.org\",\\r\\n    \"@type\" : \"Article\",\\r\\n    \"name\" : \"World food prices dip in December\",\\r\\n    \"publisher\": {\\r\\n        \"@type\": \"Organization\",\\r\\n        \"name\": \"FAO\",\\r\\n        \"logo\": {\\r\\n        \"@type\": \"ImageObject\",\\r\\n        \"url\": \"https://www.fao.org/ResourcePackages/FAO/assets/dist/img/FAO-logo.JPG\"\\r\\n        }\\r\\n    },\\r\\n    \"datePublished\" : \"06/01/2023\"\\r\\n    }\\r\\n</script>\\r\\n\\r\\n<div>\\r\\n    <div class=\"row\">\\r\\n        <div class=\"col-md-12\">\\r\\n            <h1 class=\"detail-title mt-4 mb-3\">World food prices dip in December</h1>\\r\\n                <p class=\"mb-3 text-color-gray-medium\">FAO Food Price Index ends 2022 lower than a year earlier</p>\\r\\n                            <img class=\"image-widget img-responsive img-hero mb-3\" src=\"https://www.fao.org/images/newsroomlibraries/default-album/fao_25042_1608.jpg?sfvrsn=afcb0cd1_5\" title=\"World food prices dip in December\" alt=\"\">\\r\\n                <div class=\"row mb-3\">\\r\\n                    <div class=\"col-md-9\">\\r\\n                            <p class=\"small text-color-gray-medium\">\\r\\n                                A farmer in Sicily carrying wheat seeds.\\r\\n                            </p>                    </div>\\r\\n                    <div class=\"col-md-3 text-end\">\\r\\n                            <p class=\"small text-color-gray-medium\">&copy;FAO/Giorgio Cosulich</p>                    </div>\\r\\n                </div>\\r\\n            <div class=\"row\">\\r\\n                <div class=\"col-md-9\">\\r\\n                    <div class=\"news-detail mb-3\">\\r\\n<span class=\\'news - detail__date\\'>06/01/2023</span>\\r\\n                        \\r\\n                    </div>\\r\\n\\r\\n                    <div class=\"news-detail__body\">\\r\\n\\r\\n                        \\r\\n                        <p><strong>Rome \\xe2\\x80\\x93</strong> The index of world food prices dipped for the ninth consecutive month in December 2022, declining by 1.9 percent from the previous month, the Food and Agriculture Organization of the United Nations (FAO) reported today. <br><strong><br></strong>The <a href=\"http://www.fao.org/worldfoodsituation/foodpricesindex/en/\" data-sf-ec-immutable=\"\">FAO Food Price Index</a> averaged 132.4 points in December, 1.0 percent below its value a year earlier. However, for 2022 as a whole, the index, which tracks monthly changes in the international prices of commonly-traded food commodities, averaged 143.7 points, 14.3 percent higher than the average value over 2021. <br><br>\\xe2\\x80\\x9cCalmer food commodity prices are welcome after two very volatile years,\\xe2\\x80\\x9d said FAO Chief Economist Maximo Torero. \\xe2\\x80\\x9cIt is important to remain vigilant and keep a strong focus on mitigating global food insecurity given that world food prices remain at elevated levels, with many staples near record highs, and with prices of rice increasing, and still many risks associated with future supplies\\xe2\\x80\\x9d <br><br>Vegetable oil world quotations led the decrease, with the FAO Vegetable Oil Price Index down 6.7 percent from November to reach its lowest level since February 2021. International quotations for palm, soy, rapeseed and sunflowerseed oils all declined in December, driven by subdued global import demand and prospects of seasonally rising soy oil production in South America as well as declining crude oil prices.<br><br>The FAO Cereal Price Index decreased 1.9 percent from November. Ongoing harvests in the southern hemisphere boosted wheat exportable supplies, while strong competition from Brazil drove down world maize prices. Conversely, international rice prices rose, buoyed by Asian buying and currency appreciation against the United States dollar for exporting countries. <br><br>The FAO Meat Price Index in December dropped by 1.2 percent from November, with lower world prices of bovine and poultry meats outweighing higher pig and ovine meat prices. International bovine meat prices were impacted by lacklustre global demand for medium-term supplies, while more-than-adequate export supplies pushed down poultry meat prices. Pig meat prices rose on the back of strong internal holiday demand, especially in Europe, <br><br>The FAO Dairy Price Index increased by 1.2 percent in December, following five months of consecutive declines. Higher international cheese prices, reflecting tightening market conditions, drove the monthly increase in the index, while international quotations for butter and milk powder declined. <br><br>The FAO Sugar Price Index also rose, increasing by 2.4 percent from November, mostly due to concerns over the impact of adverse weather conditions on crop yields in India and sugarcane crushing delays in Thailand and Australia. <br><br><strong>Looking back on 2022<br></strong><br>As noted, the FAO Food Price Index average over 2022 was notably higher than the previous year, which on top of large increases in <a href=\"https://www.fao.org/newsroom/detail/FAO-Food-Price-Index-december-2022/en\" data-sf-ec-immutable=\"\">2021</a> catalyzed significant strains and food security concerns for lower-income food-importing countries and the adoption, <a href=\"https://www.fao.org/3/cb9444en/cb9444en.pdf\" data-sf-ec-immutable=\"\">inspired by FAO</a>, of a \\xe2\\x80\\x9cFood Shock Window\\xe2\\x80\\x9d lending facility by the <a href=\"https://www.imf.org/en/News/Articles/2022/10/05/pr22335-imf-approves-a-new-food-shock-window-and-an-enhanced-staff-monitored-program\" data-sf-ec-immutable=\"\">International Monetary Fund</a>. <br><br>World prices of wheat and maize reached record highs over the year. The average value of the FAO Vegetable Oil Price Index for all of 2022 reached a new record high, while the FAO Dairy Price Index and Meat Price Index marked their highest full-year levels since 1990.</p><p>More details are available <a href=\"http://www.fao.org/worldfoodsituation/foodpricesindex/en/\" data-sf-ec-immutable=\"\">here</a>.<br><br></p>\\r\\n\\r\\n                        <div class=\"row\">\\r\\n                                <div class=\"col-lg-6\">\\r\\n                                    <h5 class=\"sub-title small\">More on this topic</h5>\\r\\n                                    <a href=\"https://www.fao.org/worldfoodsituation/foodpricesindex/en/\" target=\"_blank\" data-sf-ec-immutable=\"\">FAO Food Price Index</a><br><a href=\"https://www.fao.org/worldfoodsituation/csdb/en/\" target=\"_blank\" data-sf-ec-immutable=\"\">FAO\\'s most recent Cereal Supply and Demand Brief</a><br><a href=\"http://www.amis-outlook.org/amis-monitoring/monthly-report/en/\" target=\"_blank\" data-sf-ec-immutable=\"\">AMIS: Market Monitor</a><br><a href=\"http://www.amis-outlook.org/\" target=\"_blank\" data-sf-ec-immutable=\"\">Agricultural Market Information System (AMIS)</a><br><a href=\"http://www.fao.org/markets-and-trade\" data-sf-ec-immutable=\"\">FAO Markets and Trade</a>\\r\\n                                </div>\\r\\n\\r\\n\\r\\n\\r\\n                        </div>\\r\\n                    </div>\\r\\n                    \\r\\n                    <!-- Show Tags -->\\r\\n                    \\r\\n\\r\\n\\r\\n\\r\\n\\r\\n                </div>\\r\\n                    <div class=\"col-md-3\">\\r\\n\\r\\n                            <div class=\"card text-color-default bg-primary-light contact__list\">\\r\\n                                <div class=\"card-body\">\\r\\n                                    <h5 class=\"mb-3\">Contact</h5>\\r\\n                                    \\r\\n\\r\\n                                        <p>\\r\\n                                            <span class=\"d-block\"><b>Christopher Emsden</b></span>\\r\\n                                            <span class=\"d-block\">FAO News and Media (Rome)</span>\\r\\n                                            <span class=\"d-block\">(+39) 06 570 53291</span>\\r\\n                                            <a href=\"/cdn-cgi/l/email-protection#ec8f849e859f98839c84899ec289819f888982ac8a8d83c2839e8b\"><span class=\"__cf_email__\" data-cfemail=\"5b38332932282f342b333e29753e36283f3e351b3d3a347534293c\">[email&#160;protected]</span></a>\\r\\n                                        </p>\\r\\n                                        <p>\\r\\n                                            <span class=\"d-block\"><b>FAO News and Media</b></span>\\r\\n                                            <span class=\"d-block\"></span>\\r\\n                                            <span class=\"d-block\">(+39) 06 570 53625</span>\\r\\n                                            <a href=\"/cdn-cgi/l/email-protection#195f585634577c6e6a6b767674597f787637766b7e\"><span class=\"__cf_email__\" data-cfemail=\"c187808eec8fa4b6b2b3aeaeac81a7a0aeefaeb3a6\">[email&#160;protected]</span></a>\\r\\n                                        </p>\\r\\n                                </div>\\r\\n                            </div>\\r\\n                                            </div>\\r\\n            </div>\\r\\n        </div>\\r\\n\\r\\n\\r\\n\\r\\n\\r\\n    </div>\\r\\n</div>\\r\\n\\r\\n\\r\\n\\r\\n\\r\\n\\r\\n    </div>\\r\\n</div>\\r\\n\\r\\n</div>\\r\\n<footer id=\"Contentplaceholder1_T198B1AC4002_Col00\" class=\"sf_colsIn footer\" data-sf-element=\"Footer\" data-placeholder-label=\"Footer\" data-page-edit-prevent=\"true\"><div id=\"Contentplaceholder1_T198B1AC4003_Col00\" class=\"sf_colsIn container\" data-sf-element=\"Container\" data-placeholder-label=\"Container\"><div id=\"Contentplaceholder1_T198B1AC4005_Col00\" class=\"sf_colsIn row\" data-sf-element=\"Row\" data-placeholder-label=\"Row\">\\r\\n<div id=\"WeChatModal\" class=\"modal fade\" tabindex=\"-1\" role=\"dialog\" aria-hidden=\"true\" data-keyboard=\"true\">\\r\\n          <div class=\"modal-dialog modal-dialog-centered\">\\r\\n            <div class=\"modal-content\">\\r\\n              <div class=\"modal-header\">\\r\\n                <h5 class=\"modal-title\">\\r\\n                    WeChat\\r\\n                </h5>\\r\\n                              <button type=\"button\" class=\"btn-close\" data-bs-dismiss=\"modal\" aria-label=\"Close\"></button>\\r\\n                                </div>\\r\\n                <div class=\"modal-body text-center\"><img src=\"https://www.fao.org/images/corporatelibraries/social-icons/wechat_qr.jpg\" alt=\"\"></div>\\r\\n            </div>\\r\\n          </div>\\r\\n        </div><!-- Modal div ended here -->\\r\\n<div class=\"footer-logo col-md-7\" >\\r\\n    <div class=\"sfContentBlock sf-Long-text\" ><img src=\"/images/corporatelibraries/fao-images/fao-global.svg?sfvrsn=aa1f8647_1\" title=\"Food and Agriculture Organization of the United Nations\" data-displaymode=\"Original\" alt=\"Food and Agriculture Organization of the United Nations\" sf-size=\"312\"></div>\\r\\n</div>\\r\\n<div class=\"footer-social col-md-5\" >\\r\\n    <div class=\"sfContentBlock sf-Long-text\" ><h6 class=\"title-category\">Follow us on</h6><ul class=\"list-inline social-icons\"><li class=\"list-inline-item\"><a href=\"http://www.facebook.com/pages/Food-and-Agriculture-Organization-of-the-United-Nations-FAO/46370758585?ref=mf\" alt=\"facebook\" title=\"facebook\" target=\"_blank\"><img src=\"/images/corporatelibraries/social-icons/social-icon-facebook.svg?sfvrsn=b87ff153_3\" title=\"social-icon-facebook\" data-displaymode=\"Original\" alt=\"icon-facebook\"></a>\\n </li><li class=\"list-inline-item\"><a href=\"https://instagram.com/fao\" alt=\"instagram\" title=\"instagram\" target=\"_blank\"><img src=\"/images/corporatelibraries/social-icons/social-icon-instagram.svg?sfvrsn=a778452f_3\" title=\"social-icon-instagram\" data-displaymode=\"Original\" alt=\"icon-instagram\"></a>\\n\\n </li><li class=\"list-inline-item\"><a href=\"http://www.linkedin.com/company/fao\" alt=\"linkedin\" title=\"linkedin\" target=\"_blank\"><img src=\"/images/corporatelibraries/social-icons/social-icon-linkedin.svg?sfvrsn=1025492c_3\" title=\"social-icon-linkedin\" data-displaymode=\"Original\" alt=\"icon-linkedin\"></a>\\n </li><li class=\"list-inline-item\"><a href=\"https://soundcloud.com/unfao\" alt=\"soundcloud\" title=\"soundcloud\" target=\"_blank\"><img src=\"/images/corporatelibraries/social-icons/social-icon-soundcloud.svg?sfvrsn=26e63892_3\" title=\"social-icon-soundcloud\" data-displaymode=\"Original\" alt=\"icon-soundcloud\"></a>\\n </li><li class=\"list-inline-item\"><a href=\"https://www.tiktok.com/@fao\" alt=\"tiktok\" title=\"tiktok\" target=\"_blank\"><img src=\"/images/corporatelibraries/social-icons/social-icon-tiktok.svg?sfvrsn=b2228fd0_3\" title=\"social-icon-tiktok\" data-displaymode=\"Original\" alt=\"icon-tiktok\"></a>\\n </li><li class=\"list-inline-item\"><a href=\"https://www.toutiao.com/c/user/token/MS4wLjABAAAAddfBLLYL2GZzXAetR_paFVV1-M4fdAWpUxiROxuOpl7pDGuXLCGfYg_VOogU135J/\" alt=\"tuotiao\" title=\"tuotiao\" target=\"_blank\"><img src=\"/images/corporatelibraries/social-icons/social-icon-tuotiao.svg?sfvrsn=1883ae3_3\" title=\"social-icon-tuotiao\" data-displaymode=\"Original\" alt=\"icon-tuotiao\"></a>\\n </li><li class=\"list-inline-item\"><a alt=\"WeChat\" title=\"WeChat\" data-bs-toggle=\"modal\" data-bs-target=\"#WeChatModal\" style=\"cursor: pointer\"><img src=\"/images/corporatelibraries/social-icons/social-icon-wechat.svg?sfvrsn=cd28c1ee_3\" title=\"social-icon-wechat\" data-displaymode=\"Original\" alt=\"icon-wechat\"></a>\\n </li><li class=\"list-inline-item\"><a href=\"http://www.weibo.com/unfao?from=myfollow_all\" alt=\"weibo\" title=\"weibo\" target=\"_blank\"><img src=\"/images/corporatelibraries/social-icons/social-icon-weibo.svg?sfvrsn=7b5b0403_3\" title=\"social-icon-weibo\" data-displaymode=\"Original\" alt=\"icon-weibo\"></a>\\n </li><li class=\"list-inline-item\"><a href=\"https://bit.ly/3BBpfEq\" alt=\"whatsapp\" title=\"whatsapp\" target=\"_blank\"><img src=\"/images/corporatelibraries/social-icons/whatsapp-icon.svg?sfvrsn=6cfc5647_1\" title=\"social-icon-whatsapp\" data-displaymode=\"Original\" alt=\"icon-whatsapp\"></a>\\n </li><li class=\"list-inline-item\"><a href=\"https://x.com/FAO\" alt=\"X\" title=\"X\" target=\"_blank\"><img src=\"/images/corporatelibraries/social-icons/social-icon-twitter.svg?sfvrsn=c68bb7c2_4\" title=\"social-icon-X\" data-displaymode=\"Original\" alt=\"icon-X\"></a>\\n </li><li class=\"list-inline-item\"><a href=\"http://www.youtube.com/user/FAOoftheUN\" alt=\"youtube\" title=\"youtube\" target=\"_blank\"><img src=\"/images/corporatelibraries/social-icons/social-icon-youtube.svg?sfvrsn=94de1814_3\" title=\"social-icon-youtube\" data-displaymode=\"Original\" alt=\"icon-youtube\"></a>\\n </li></ul></div>\\r\\n</div>\\r\\n</div>\\r\\n<div id=\"Contentplaceholder1_T198B1AC4004_Col00\" class=\"sf_colsIn row\" data-sf-element=\"Row\" data-placeholder-label=\"Row\"><div class=\"footer-links col-md-7\">\\r\\n    <div id=\"Contentplaceholder1_T198B1AC4006_Col00\" class=\"sf_colsIn footer-links-top\" data-sf-element=\"Footer Links Top\" data-placeholder-label=\"Footer Links Top\">\\r\\n    <div class=\"\">\\r\\n        <a href=\"https://www.fao.org/about/org-chart/en/\" target=\"_self\">FAO Organizational Chart</a>\\r\\n    </div>\\r\\n\\r\\n    <div class=\"btn-group dropup\">\\r\\n        <button type=\"button\" class=\"btn btn-secondary dropdown-toggle\" data-bs-toggle=\"dropdown\" aria-haspopup=\"true\" aria-expanded=\"false\">\\r\\n            Worldwide offices\\r\\n        </button>\\r\\n        <div class=\"dropdown-menu\">\\r\\n                <a href=\"https://www.fao.org/africa/en/\" target=\"_self\" class=\"dropdown-item\">Regional Office for Africa</a>\\r\\n                <a href=\"https://www.fao.org/asiapacific/en/\" target=\"_self\" class=\"dropdown-item\">Regional Office for Asia and the Pacific</a>\\r\\n                <a href=\"https://www.fao.org/europe/en/\" target=\"_self\" class=\"dropdown-item\">Regional Office for Europe and Central Asia</a>\\r\\n                <a href=\"https://www.fao.org/americas/en/\" target=\"_self\" class=\"dropdown-item\">Regional Office for Latin America and the Caribbean</a>\\r\\n                <a href=\"https://www.fao.org/neareast/en/\" target=\"_self\" class=\"dropdown-item\">Regional Office for the Near East and North Africa</a>\\r\\n                <a href=\"https://www.fao.org/about/who-we-are/worldwide-offices/en\" target=\"_self\" class=\"dropdown-item\">Country Offices</a>\\r\\n        </div>\\r\\n    </div>\\r\\n\\r\\n    </div>\\r\\n    <div id=\"Contentplaceholder1_T198B1AC4006_Col01\" class=\"sf_colsIn footer-links-bottom\" data-sf-element=\"Footer Links Bottom\" data-placeholder-label=\"Footer Links Bottom\">\\r\\n<ul class=\"list-inline\">\\r\\n        <li class=\"list-inline-item\">\\r\\n            <a href=\"https://www.fao.org/employment/home/en/\" target=\"_self\">Jobs</a>\\r\\n        </li>\\r\\n        <li class=\"list-inline-item\">\\r\\n            <a href=\"https://fao.org/contact-us/en/\" target=\"_self\">Contact us</a>\\r\\n        </li>\\r\\n        <li class=\"list-inline-item\">\\r\\n            <a href=\"https://fao.org/contact-us/terms/en/\" target=\"_self\">Terms and Conditions</a>\\r\\n        </li>\\r\\n        <li class=\"list-inline-item\">\\r\\n            <a href=\"https://fao.org/contact-us/data-protection-and-privacy/en/\" target=\"_self\">Data protection and privacy</a>\\r\\n        </li>\\r\\n        <li class=\"list-inline-item\">\\r\\n            <a href=\"https://fao.org/contact-us/scam-alert/en/\" target=\"_self\">Scam Alert</a>\\r\\n        </li>\\r\\n        <li class=\"list-inline-item\">\\r\\n            <a href=\"https://www.fao.org/contact-us/report-misconduct/en/\" target=\"_self\">Report Misconduct</a>\\r\\n        </li>\\r\\n        <li class=\"list-inline-item\">\\r\\n            <a href=\"https://www.fao.org/transparency/en\" target=\"_self\">Transparency and accountability</a>\\r\\n        </li>\\r\\n</ul>\\r\\n\\r\\n    </div>\\r\\n</div>\\r\\n<div class=\"footer-download col-md-5\" >\\r\\n    <div class=\"sfContentBlock sf-Long-text\" ><a class=\"copyright\" href=\"https://www.fao.org/contact-us/terms/en/\" data-sf-ec-immutable=\"\">\\xc2\\xa9 FAO&nbsp;2025</a></div>\\r\\n</div>\\r\\n</div>\\r\\n\\r\\n</div>\\r\\n\\r\\n</footer>\\r\\n\\r\\n </div>  <script data-cfasync=\"false\" src=\"/cdn-cgi/scripts/5c5dd728/cloudflare-static/email-decode.min.js\"></script><script src=\"/ResourcePackages/Bootstrap5/assets/dist/js/popper.min.js?v=2.11.8\" type=\"text/javascript\"></script><script src=\"/ResourcePackages/Bootstrap5/assets/dist/js/bootstrap.min.js?v=5.3.3\" type=\"text/javascript\"></script><script src=\"/Frontend-Assembly/SitefinityWebApp/Mvc/Scripts/FaoLanguageSelector/language-selector.js?package=FAO&amp;v=LTE1MTMxNjg5NjA%3d\" type=\"text/javascript\"></script><script src=\"/ResourcePackages/FAO/assets/dist/js/utility.min.js\" type=\"text/javascript\"></script><script type=\"application/json\" id=\"PersonalizationTracker\">\\r\\n\\t{\"IsPagePersonalizationTarget\":false,\"IsUrlPersonalizationTarget\":false,\"PageId\":\"485bd31b-ba60-4dec-a482-48f9ba616640\"}\\r\\n</script><script type=\"text/javascript\" src=\"/WebResource.axd?d=NjxTqR2bqTw1rewxxlkHPoBB5CDatGYzZ3CWgf1FPNEBuDUZPbAL6EI4dDKbkSdIDdnRDsMyEI1n0bYSuQyPjOMXCNtK20UMe0VarzrEJK3kSl-dB6u-nSg0V62BML_GKgsoVZeWfO-Bb3BI27iNMkTOw9HcDWBzxMNlHZ9B2lK0g7tyFX7r8CxiFBcic142WC75xOF1g27QH0LQ_zZEqJqimpg1T2wEwSEcGdIePyI1&amp;t=638575176900000000\">\\r\\n\\r\\n</script><input data-sf-role=\\'en\\' type=\\'hidden\\' value=\\'https://www.fao.org/newsroom/detail/world-food-prices-dip-in-december/en\\'><input data-sf-role=\\'ar\\' type=\\'hidden\\' value=\\'https://www.fao.org/newsroom/detail/world-food-prices-dip-in-december/ar\\'><input data-sf-role=\\'zh\\' type=\\'hidden\\' value=\\'https://www.fao.org/newsroom/detail/world-food-prices-dip-in-december/zh\\'><input data-sf-role=\\'fr\\' type=\\'hidden\\' value=\\'https://www.fao.org/newsroom/detail/world-food-prices-dip-in-december/fr\\'><input data-sf-role=\\'ru\\' type=\\'hidden\\' value=\\'https://www.fao.org/newsroom/detail/world-food-prices-dip-in-december/ru\\'><input data-sf-role=\\'es\\' type=\\'hidden\\' value=\\'https://www.fao.org/newsroom/detail/world-food-prices-dip-in-december/es\\'><input data-sf-role=\\'it\\' type=\\'hidden\\' value=\\'\\'> </body> </html>\\r\\n'"
            ]
          },
          "metadata": {},
          "execution_count": 85
        }
      ]
    },
    {
      "cell_type": "code",
      "source": [
        "BeautifulSoup(xu.content)"
      ],
      "metadata": {
        "id": "Rh4GQnOroNVy",
        "outputId": "8e3311dd-e75b-46d3-a1fc-af17595899bc",
        "colab": {
          "base_uri": "https://localhost:8080/"
        }
      },
      "id": "Rh4GQnOroNVy",
      "execution_count": 86,
      "outputs": [
        {
          "output_type": "execute_result",
          "data": {
            "text/plain": [
              "<!DOCTYPE html>\n",
              "<html lang=\"en\"> <head> <meta charset=\"utf-8\"/> <meta content=\"width=device-width, initial-scale=1, shrink-to-fit=no\" name=\"viewport\"/> <title>\n",
              "\tWorld food prices dip in December\n",
              "</title> <script src=\"/ScriptResource.axd?d=6DQe8ARl7A9TiuWej5ttCsl0UxczkFZDbeL5SW9kKwZezKThjMd6CKk80af9FalSKa-iav7TTDncR2lY8pDjm3GfAJE4PtQDLQKTHvlXubFpiBl5L2i8chWLcfOXJghIDWVmV7HDcMgBha1sHF1HkvsG2gh96v6WMgcTICorlXSyCWKJN2ZyaRZDDb4Aqzqr0&amp;t=ffffffff927db8ce\" type=\"text/javascript\"></script><script src=\"/ScriptResource.axd?d=dJqyoTStQGFGCcNtOAFUctOJCyRSc4yqRSI73XwbovU6PqQZNxY5Jab6ztzk0jR2v15jaQwx5m7sZ2LBg2R5cNaMfc1Ynq6w7hu7U6LHIIUYD9BMNEqbMN8G3rrnYR21-ohEwKgwd6kg6S14vSY1Azk4DOa5MZRU7k3Nb6LhruAi6AUkTnPHZfP7Z5vwie_Q0&amp;t=ffffffff927db8ce\" type=\"text/javascript\"></script><script src=\"https://cse.google.com/cse.js?cx=018170620143701104933%3Aqq82jsfba7w\" type=\"text/javascript\"></script><link href=\"/ResourcePackages/Bootstrap5/assets/dist/css/main.min.css?v=5.3.3&amp;package=FAO\" rel=\"stylesheet\" type=\"text/css\"/> <link href=\"/ResourcePackages/FAO/assets/dist/css/fao-theme.min.css?v=2.36.3&amp;package=FAO\" rel=\"stylesheet\" type=\"text/css\"/> <link href=\"/docs/corporatelibraries/default-document-library/favicon/favicon.ico\" rel=\"shortcut icon\"/><!-- Google Tag Manager -->\n",
              "<!-- Google Tag Manager Source Identification start -->\n",
              "<script type=\"text/javascript\">\n",
              "window.dataLayer = window.dataLayer || [];\n",
              "window.dataLayer.push({\n",
              " 'event': 'pageType',\n",
              " 'cmsType': 'SITEFINITY'\n",
              " });\n",
              "</script>\n",
              "<!-- Google Tag Manager Source Identification end -->\n",
              "<script type=\"text/javascript\">(function(w,d,s,l,i){w[l]=w[l]||[];w[l].push({'gtm.start':\n",
              "new Date().getTime(),event:'gtm.js'});var f=d.getElementsByTagName(s)[0],\n",
              "j=d.createElement(s),dl=l!='dataLayer'?'&l='+l:'';j.async=true;j.src=\n",
              "'https://www.googletagmanager.com/gtm.js?id='+i+dl;f.parentNode.insertBefore(j,f);\n",
              "})(window,document,'script','dataLayer','GTM-NHPTQQS');</script>\n",
              "<!-- End Google Tag Manager -->\n",
              "<!-- Enable google search console verified Owners  -->\n",
              "<meta content=\"B3uplHPjPrk8RS6Qq9SBwX1o3cjrBUvK4FbjdsKiUXI\" name=\"google-site-verification\"/>\n",
              "<meta content=\"zB-tLVNkC_1LLXke_Ma8oeDFDOfsJVIJ2SDsyAdOZq8\" name=\"google-site-verification\"/><meta content=\"World food prices dip in December\" property=\"twitter:title\"/><meta content=\"FAO Food Price Index ends 2022 lower than a year earlier.\" property=\"description\"/><meta content=\"FAO Food Price Index ends 2022 lower than a year earlier.\" property=\"og:description\"/><meta content=\"FAO Food Price Index ends 2022 lower than a year earlier.\" property=\"twitter:description\"/><meta content=\"https://www.fao.org/images/newsroomlibraries/default-album/fao_25042_1608.jpg?sfvrsn=afcb0cd1_5\" property=\"og:image\"/><meta content=\"https://www.fao.org/images/newsroomlibraries/default-album/fao_25042_1608.jpg?sfvrsn=afcb0cd1_5\" property=\"twitter:image:src\"/><meta content=\"https://www.fao.org/images/newsroomlibraries/default-album/fao_25042_1608.jpg?sfvrsn=afcb0cd1_5\" property=\"twitter:image\"/><meta content=\"image/jpg\" property=\"og:image:type\"/><meta content=\"1862\" property=\"og:image:width\"/><meta content=\"992\" property=\"og:image:height\"/><meta content=\"https://www.fao.org/images/newsroomlibraries/default-album/fao_25042_1608.jpg?sfvrsn=afcb0cd1_5\" property=\"og:image:secure_url\"/><meta content=\"https://www.fao.org/images/newsroomlibraries/default-album/fao_25042_1608.jpg?sfvrsn=afcb0cd1_5\" property=\"og:image:url\"/><meta content=\"summary_large_image\" property=\"twitter:card\"/><meta content=\"@FAO\" property=\"twitter:site\"/><meta content=\"@FAO\" property=\"twitter:creator\"/><meta content=\"19649135\" property=\"twitter:account_id\"/><meta content=\"World food prices dip in December\" property=\"og:title\"/><meta content=\"website\" property=\"og:type\"/><meta content=\"https://www.fao.org/newsroom/detail/world-food-prices-dip-in-december/en\" property=\"og:url\"/><meta content=\"https://www.fao.org/newsroom/detail/world-food-prices-dip-in-december/en\" property=\"twitter:url\"/><meta content=\"Newsroom\" property=\"og:site_name\"/><link href=\"https://www.fao.org/newsroom/detail/world-food-prices-dip-in-december/en\" rel=\"canonical\"/><script id=\"sf-insight-metadata\" type=\"application/json\">\n",
              "\t{\"contentMetadata\":\"{\\\"Id\\\":\\\"c0d6a30e-f202-4933-b5c7-39c582d29070\\\",\\\"ContentType\\\":\\\"FaoNews\\\",\\\"Title\\\":\\\"World food prices dip in December\\\",\\\"CanonicalTitle\\\":\\\"World food prices dip in December\\\",\\\"CanonicalUrl\\\":\\\"https://www.fao.org/newsroom/detail/en/world-food-prices-dip-in-december\\\",\\\"Language\\\":\\\"en\\\",\\\"CreatedOn\\\":\\\"2023-01-06T06:25:50Z\\\",\\\"ModifiedOn\\\":\\\"2023-01-12T10:45:42.893Z\\\",\\\"SiteId\\\":\\\"417e3837-5a35-42dd-b5ce-3ec0e8208fee\\\",\\\"SiteName\\\":\\\"Newsroom\\\",\\\"ModuleName\\\":\\\"FAO News\\\",\\\"SFDataProviderName\\\":\\\"newsroomfaonews\\\",\\\"PageId\\\":\\\"485bd31b-ba60-4dec-a482-48f9ba616640\\\",\\\"PageTitle\\\":\\\"detail\\\",\\\"PageCanonicalTitle\\\":\\\"detail\\\",\\\"PageCanonicalUrl\\\":\\\"https://www.fao.org/newsroom/detail/en\\\"}\",\"videosMetadata\":\"[]\"}\n",
              "</script><script id=\"sf-insight-settings\" type=\"application/json\">\n",
              "\t{\"apiServerUrl\":\"https://nl-api.insight.sitefinity.com\",\"apiKey\":\"809d83af-d9fd-a484-f0d9-1cecdf4742c7\",\"applicationName\":\"Website\",\"trackingCookieDomain\":\"\",\"keepDecTrackingCookieOnTrackingConsentRejection\":false,\"slidingExpirationForTrackingCookie\":false,\"maxAgeForTrackingCookieInDays\":365,\"trackYouTubeVideos\":true,\"crossDomainTrackingEntries\":[\"www.fao.org/in-action/redspaa\",\"www.fao.org/in-action/sustainable-aquaculture-partnership\",\"www.fao.org/cfs/cfs-hlpe\",\"www.fao.org/aphca\",\"www.fao.org/employment\",\"www.fao.org/communication-for-development\",\"www.fao.org/aprc36-dialogue\",\"www.fao.org/africa\",\"www.fao.org/gef\",\"www.fao.org/in-action/fao-campus\",\"www.fao.org/in-action/integrated-monitoring-initiative-sdg6\",\"www.fao.org/gift-individual-food-consumption\",\"www.fao.org/forestry\",\"www.fao.org/jefca-toolbox-veterinary-drugs-assessment\",\"www.fao.org/technical-cooperation-programme\",\"sfcs.fao.org/office-of-sustainable-development-goals\",\"www.fao.org/in-action/ectad\",\"www.fao.org/evaluation\",\"www.fao.org/food-labelling\",\"www.fao.org/gcf\",\"www.fao.org/forestry/firemanagement\",\"www.fao.org/ectad\",\"www.fao.org/ecosystem-restoration-monitoring\",\"www.fao.org/eifaac\",\"www.fao.org/markets-and-trade\",\"www.fao.org/world-food-day\",\"www.fao.org/platforms/green-agriculture\",\"www.fao.org/plant-health-day\",\"www.fao.org/evidence-platform-agri-food-systems-nutrition\",\"www.fao.org/in-action/blue-ports-initiative\",\"www.fao.org/cambodia\",\"www.fao.org/europe\",\"www.fao.org/partnerships/academia\",\"www.fao.org/about/strategy-programme-budget\",\"www.fao.org/biotechnology\",\"www.fao.org/aid-monitor\",\"www.fao.org/syria\",\"www.fao.org/in-action/social-protection-for-fisheries-and-aquaculture\",\"www.fao.org/in-action/saga\",\"www.fao.org/camelids-2024\",\"fao.org/in-action/drought-portal\",\"www.fao.org/mountain-partnership\",\"www.fao.org/forestry/statistics\",\"www.fao.org/good-hygiene-practices-haccp-toolbox\",\"www.fao.org/in-action/eu-streit-png\",\"www.fao.org/in-action/fish-aquatic-food-school-meals\",\"www.fao.org/2019-ncov\",\"www.fao.org/animal-production\",\"www.fao.org/world-bee-day\",\"www.fao.org/climate-change/knowledge-hub\",\"www.fao.org/in-action/mafap\",\"www.fao.org/social-protection\",\"www.fao.org/plant-production-protection\",\"www.fao.org/europeanunion\",\"www.fao.org/world-cotton-day\",\"www.fao.org/silva-mediterranea\",\"www.fao.org/digital-villages-initiative/europe\",\"www.fao.org/platforms/school-food\",\"www.fao.org/agriculture/fao-iaea-nuclear-techniques\",\"www.fao.org/americas/publicaciones/panorama\",\"www.fao.org/digital-villages-initiative/africa\",\"www.fao.org/member-countries\",\"www.fao.org/ccp\",\"www.fao.org/platforms/afras\",\"www.fao.org/in-action/building-forward-better\",\"www.fao.org/publications/library\",\"www.fao.org/ethics\",\"www.fao.org/in-action/developpement-agricole-acces-marche-padaam\",\"www.fao.org/newsroom\",\"www.fao.org/contact-us\",\"www.fao.org/platforms/family-farming\",\"www.fao.org/gender\",\"www.fao.org/event/world-forestry-congress\",\"www.fao.org/platform-food-loss-waste/regions/neareast\",\"www.fao.org/food-agriculture-microdata\",\"www.fao.org/in-action/south-south-digital-transformation-innovation\",\"www.fao.org/cgrfa\",\"www.fao.org/locust-watch\",\"www.fao.org/fish4acp\",\"www.fao.org/fishery-divisional-structure\",\"www.fao.org/pollination\",\"www.fao.org/in-action/mercados-tradicionales-alimentos\",\"www.fao.org/forestry/pests\",\"www.fao.org/arc32-dialogue\",\"www.fao.org/in-focus\",\"www.fao.org/in-action/scalewat\",\"www.unfoodsystemshub.org\",\"www.fao.org/sustainable-development-goals-data-portal\",\"www.fao.org/in-action/remote-sensing-for-water-productivity\",\"www.fao.org/forestry/food-security\",\"www.fao.org/in-action/resilient-caribbean-initiative\",\"www.fao.org/multimedia\",\"www.fao.org/in-action/scala\",\"www.fao.org/in-action/central-asian-animal-health-network\",\"www.fao.org/arc33-dialogue\",\"www.fao.org/in-action/sepal\",\"www.fao.org/giahs\",\"www.fao.org/platforms/common-practices\",\"www.fao.org/policy-support\",\"www.fao.org/platform-food-loss-waste\",\"www.fao.org/livestock-environment\",\"www.fao.org/transparency\",\"www.fao.org/about/who-we-are/departments/food-nutrition-division\",\"www.fao.org/gaez\",\"youth.world-food-forum.org\",\"www.fao.org/coag\",\"www.fao.org/cofi/fish-management\",\"www.fao.org/forestry/nwfp\",\"www.fao.org/russian-federation\",\"www.fao.org/themes\",\"www.fao.org/green-cities-initiative\",\"www.fao.org/fao-office-climate-change-biodiversity-environment\",\"www.fao.org/world-water-day\",\"www.fao.org/aprc37-dialogue\",\"www.fao.org/cofi\",\"www.fao.org/hand-in-hand\",\"www.fao.org/sids-solutions\",\"www.fao.org/new-york\",\"www.fao.org/director-general\",\"www.fao.org/science-technology-and-innovation\",\"www.fao.org/transboundary-plant-pests-diseases\",\"www.fao.org/codex-food-standards-zoonotic-diseases\",\"www.fao.org/in-action/global-network-digital-agriculture-innovation-hubs\",\"www.fao.org/in-action/enhancing-land-consolidation\",\"www.fao.org/brussels\",\"www.fao.org/platforms/water-scarcity\",\"www.fao.org/in-action/aquatic-health-management-biosecurity\",\"www.fao.org/audit-and-investigations\",\"www.fao.org/joint-programme-gender-transformative-approaches\",\"www.fao.org/animal-health\",\"www.fao.org/in-action/globefish\",\"www.fao.org/food-systems\",\"www.fao.org/liberia\",\"sfcs.fao.org/coag-livestock\",\"www.fao.org/agriculture/animal-production-and-health\",\"www.fao.org/republic-of-korea\",\"www.fao.org/mozambique\",\"www.fao.org/in-action/global-strategy-agricultural-statistics\",\"www.fao.org/in-action/forest-landscape-restoration-mechanism\",\"www.fao.org/blog/afghanistan-diaries\",\"www.fao.org/datalab\",\"www.fao.org/genetic-resources\",\"www.fao.org/family-farming-engagement\",\"www.fao.org/in-action/forest-landscape-restoration-asia\",\"www.fao.org/about\",\"www.fao.org/apfic\",\"www.fao.org/statistics/caliper\",\"www.fao.org/asfa\",\"www.fao.org/digital-villages-initiative/asia-pacific\",\"www.fao.org/food-coalition\",\"www.fao.org/geographical-indications\",\"www.fao.org/home\",\"www.fao.org/partnerships/resource-partners\",\"www.fao.org/in-action/sustainable-fisheries-aquaculture-mediterranean\",\"www.fao.org/publications\",\"www.fao.org/inclusivity-in-agrifood-systems\",\"www.fao.org/jordan\",\"www.fao.org/japan\",\"www.fao.org/fao-awards\",\"www.fao.org/estotems\",\"www.fao.org/in-action/farmers-organization-africa-caribbean-pacific\",\"www.fao.org/el-nino\",\"www.fao.org/in-action/aim4forests\",\"www.fao.org/in-action/pesticides-central-asia\",\"www.fao.org/indigenous-peoples\",\"www.fao.org/united-arab-emirates\",\"www.fao.org/biodiversity\",\"www.fao.org/in-action/water-for-nutrition\",\"www.fao.org/international-tea-day\",\"www.fao.org/investment-centre\",\"www.fao.org/urban-peri-urban-agriculture\",\"www.fao.org/documents\",\"www.fao.org/childlabouragriculture\",\"www.fao.org/climate-change\",\"www.fao.org/collaborative-partnership-on-forests\",\"www.fao.org/emergencies\",\"www.fao.org/nobel-for-foodsecurity-peace\",\"www.fao.org/hih-geospatial-platform\",\"www.fao.org/in-action/rural-livelihoods-dataset-rulis\",\"www.fao.org/governing-bodies\",\"www.fao.org/in-action/climate-change-transparency\",\"www.fao.org/regional-sofi\",\"www.fao.org/in-action/swm-programme\",\"www.fao.org/in-action/global-bioenergy-partnership\",\"www.fao.org/rural-youth\",\"www.fao.org/protection-sexual-exploitation-and-abuse-psea\",\"www.fao.org/forests\",\"www.world-food-forum.org\",\"www.fao.org/one-country-one-priority-product\",\"www.fao.org/in-action/think-pa\",\"www.fao.org/events\",\"www.fao.org/statistics\",\"www.fao.org/office-of-innovation\",\"www.fao.org/bhutan\",\"www.fao.org/fao-italy\",\"www.fao.org/voluntary-guidelines-small-scale-fisheries\",\"www.fao.org/in-action/openforis\",\"www.fao.org/in-action/dryland-sustainable-landscapes\",\"www.fao.org/sustainable-development-goals-helpdesk\",\"www.fao.org/environmental-social-safeguards\",\"www.fao.org/digital-services\",\"www.fao.org/forest-monitoring\",\"www.fao.org/socioeconomic-research-analysis\",\"www.fao.org/agroinformatics\",\"www.fao.org/right-to-food\",\"www.fao.org/lebanon\",\"www.fao.org/corporatepage\",\"www.fao.org/one-health\",\"www.fao.org/north-america\",\"www.fao.org/egypt\",\"www.fao.org/millets-2023\",\"www.fao.org/asiapacific\",\"www.fao.org/food-agriculture-sustainable-transformation-partnership\",\"www.fao.org/about/fao-in-review\",\"www.fao.org/about/visit-us\",\"www.fao.org/communications\",\"www.fao.org/forestry/sfm\",\"www.fao.org/in-action/forest-data-partnership\",\"www.fao.org/in-action/canary-current-lme\",\"www.fao.org/worldfoodsituation\",\"www.fao.org/in-action/boosting-transparency-forest-data\",\"www.fao.org/sustainable-gastronomy-day\",\"www.fao.org/partnerships/fao-un-system\",\"www.fao.org/americas\",\"www.fao.org/world-pulses-day\",\"www.fao.org/partnerships/healthy-diets-coalition\",\"sfcs.fao.org/forestry/mangrove\",\"www.fao.org/dairy-production-products\",\"www.fao.org/in-action/eostat\",\"www.fao.org/neareast\",\"www.fao.org/geneva\",\"www.fao.org/hunger\",\"www.fao.org/campaign\",\"www.fao.org/markets-and-trade/corporate\",\"www.fao.org/agroforestry\",\"www.fao.org/in-action/enteric-methane\",\"www.fao.org/in-action/indonesian-seas-large-marine-ecosystem\",\"www.fao.org/international-potato-day\",\"www.fao.org/strategic-framework\"],\"strategy\":\"Persist|False\",\"docsHrefTestExpressions\":[\".*\\\\/docs\\\\/.+\\\\.{1}.+((\\\\?|\\\\\\u0026)sfvrsn=.+){1}$\",\".+((\\\\?|\\\\\\u0026)sf_dm_key=.+){1}$\"],\"sessionLengthInMinutes\":30,\"trackVimeoVideos\":true,\"useSecureCookies\":true}\n",
              "</script><script src=\"/WebResource.axd?d=HtQyXelCu6mzSPcVcvK_BhLwAkuC9t5TYaBV11a0cHh0IhdhSdfYL1cMo4yUQgqYBmnTC8bAkgxzpTnmSrBknjeNIKIBRUjeHTgYBbsvtj8vF4zb-e_KjKPth6ehdBW3qQH244ykhZSQ7OBfn3wupYkhsgi3STMs3w8gCLKj-AnZVsto12IouToKcLIAc0eYh8KLFWJYLVKLEsXRkC_FGaZxzLllPdKq1twUvbf5RZ41&amp;t=638575176320000000\" type=\"text/javascript\">\n",
              "</script><script async=\"async\" crossorigin=\"\" src=\"https://cdn.insight.sitefinity.com/sdk/sitefinity-insight-client.min.3.1.35.js\">\n",
              "</script><link href=\"https://www.fao.org/newsroom/en\" hreflang=\"en\" rel=\"alternate\"/><link href=\"https://www.fao.org/newsroom/ar\" hreflang=\"ar\" rel=\"alternate\"/><link href=\"https://www.fao.org/newsroom/zh\" hreflang=\"zh\" rel=\"alternate\"/><link href=\"https://www.fao.org/newsroom/fr\" hreflang=\"fr\" rel=\"alternate\"/><link href=\"https://www.fao.org/newsroom/ru\" hreflang=\"ru\" rel=\"alternate\"/><link href=\"https://www.fao.org/newsroom/es\" hreflang=\"es\" rel=\"alternate\"/><link href=\"https://www.fao.org/newsroom/it\" hreflang=\"it\" rel=\"alternate\"/><meta content=\"News detail\" name=\"description\"/></head> <body> <div>\n",
              "<!-- Google Tag Manager (noscript) -->\n",
              "<noscript><iframe height=\"0\" src=\"https://www.googletagmanager.com/ns.html?id=GTM-NHPTQQS\" style=\"display:none;visibility:hidden\" width=\"0\"></iframe></noscript>\n",
              "<!-- End Google Tag Manager (noscript) --><header class=\"fao-header corporate-header\" data-page-edit-prevent=\"true\">\n",
              "<div class=\"container\">\n",
              "<div class=\"row\">\n",
              "<div class=\"header-wrapper col-12\">\n",
              "<div class=\"sf_colsIn fao-header-left\" data-placeholder-label=\"Header Left\" data-sf-element=\"Header Left\" id=\"Contentplaceholder1_T78DBE6AB022_Col00\">\n",
              "<div>\n",
              "<div class=\"sfContentBlock sf-Long-text\"><a href=\"https://www.fao.org\"><img alt=\"Food and Agriculture Organization of the United Nations\" class=\"header-fao-logo\" data-displaymode=\"Original\" src=\"/images/corporatelibraries/fao-logo/fao-logo-en.svg?sfvrsn=f64522b4_36\" title=\"Food and Agriculture Organization of the United Nations\"/></a></div>\n",
              "</div>\n",
              "</div>\n",
              "<div class=\"sf_colsIn fao-header-right\" data-placeholder-label=\"Header Right\" data-sf-element=\"Header Right\" id=\"Contentplaceholder1_T78DBE6AB022_Col01\">\n",
              "<div class=\"dropdown discover-dropdown\">\n",
              "<button aria-expanded=\"false\" aria-haspopup=\"true\" class=\"btn btn-secondary dropdown-toggle\" data-bs-toggle=\"dropdown\" id=\"dropdownDiscoverMenu\" type=\"button\">\n",
              "        Discover\n",
              "    </button>\n",
              "<div aria-labelledby=\"dropdownDiscoverMenu\" class=\"dropdown-menu\">\n",
              "<a class=\"dropdown-item\" href=\"http://www.fao.org/about/en/\" target=\"_self\">About FAO</a>\n",
              "<a class=\"dropdown-item\" href=\"http://www.fao.org/in-action/en/\" target=\"_self\">In action</a>\n",
              "<a class=\"dropdown-item\" href=\"http://www.fao.org/news/en/\" target=\"_self\">Media</a>\n",
              "<a class=\"dropdown-item\" href=\"http://www.fao.org/themes/en/\" target=\"_self\">Main topics</a>\n",
              "<a class=\"dropdown-item\" href=\"http://www.fao.org/statistics/en/\" target=\"_self\">Resources</a>\n",
              "<a class=\"dropdown-item\" href=\"http://www.fao.org/countryprofiles/en/\" target=\"_self\">Member countries</a>\n",
              "<a class=\"dropdown-item\" href=\"http://www.fao.org/partnerships/en/\" target=\"_self\">Get involved</a>\n",
              "</div>\n",
              "</div>\n",
              "<div aria-label=\"Change Language\" class=\"dropdown language-switch\" role=\"menu\">\n",
              "<button aria-expanded=\"false\" aria-haspopup=\"true\" aria-label=\"ENGLISH\" class=\"btn btn-secondary dropdown-toggle\" data-bs-toggle=\"dropdown\" id=\"dropdownLanguageMenu\" role=\"menuitem\" type=\"button\">\n",
              "            English\n",
              "        </button>\n",
              "<div aria-labelledby=\"dropdownLanguageMenu\" class=\"dropdown-menu\" id=\"faoLanguageSelector\">\n",
              "<a aria-label=\"العربية\" class=\"dropdown-item\" data-sf-culture=\"ar\" href=\"\" onclick=\"openLink('ar'); return false;\" role=\"menuitem\">العربية</a>\n",
              "<a aria-label=\"中文\" class=\"dropdown-item\" data-sf-culture=\"zh\" href=\"\" onclick=\"openLink('zh'); return false;\" role=\"menuitem\">中文</a>\n",
              "<a aria-label=\"Français\" class=\"dropdown-item\" data-sf-culture=\"fr\" href=\"\" onclick=\"openLink('fr'); return false;\" role=\"menuitem\">Français</a>\n",
              "<a aria-label=\"Русский\" class=\"dropdown-item\" data-sf-culture=\"ru\" href=\"\" onclick=\"openLink('ru'); return false;\" role=\"menuitem\">Русский</a>\n",
              "<a aria-label=\"Español\" class=\"dropdown-item\" data-sf-culture=\"es\" href=\"\" onclick=\"openLink('es'); return false;\" role=\"menuitem\">Español</a>\n",
              "<a aria-label=\"Italiano\" class=\"dropdown-item\" data-sf-culture=\"it\" href=\"\" onclick=\"openLink('it'); return false;\" role=\"menuitem\">Italiano</a>\n",
              "</div>\n",
              "</div>\n",
              "<script type=\"text/javascript\">\n",
              "\n",
              "    document.onreadystatechange = function () {\n",
              "        if (document.readyState == \"interactive\") {\n",
              "            initializeLanguageSelector();\n",
              "        }\n",
              "    }\n",
              "\n",
              "</script>\n",
              "<div>\n",
              "<div class=\"sfContentBlock sf-Long-text\"><div class=\"header-icons\"><a aria-label=\"Share\" data-bs-target=\"#shareModal\" data-bs-toggle=\"modal\" data-sf-ec-immutable=\"\" href=\"#\"><em class=\"bi bi-share-fill\"></em></a>\n",
              "<a aria-label=\"Search\" data-bs-toggle=\"collapse\" data-sf-ec-immutable=\"\" href=\"#collapseSearchBox\"><em class=\"bi bi-search\"></em></a>\n",
              "</div></div>\n",
              "</div>\n",
              "</div>\n",
              "</div>\n",
              "</div>\n",
              "<div class=\"row\">\n",
              "<div class=\"sf_colsIn col-12\" data-placeholder-label=\"Header Bottom\" data-sf-element=\"Header Bottom\" id=\"Contentplaceholder1_T78DBE6AB022_Col02\">\n",
              "<div class=\"collapse\" id=\"collapseSearchBox\">\n",
              "<div class=\"search-container search-results-container\">\n",
              "<div class=\"gcse-searchbox-only\" data-resultsurl=\"https://www.fao.org/home/search/en/\"></div>\n",
              "</div>\n",
              "</div>\n",
              "</div>\n",
              "</div>\n",
              "</div>\n",
              "<div class=\"navBarContainer\">\n",
              "<div class=\"sf_colsIn col-12\" data-placeholder-label=\"Navigation Bar\" data-sf-element=\"Navigation Bar\" id=\"Contentplaceholder1_T78DBE6AB022_Col03\" style=\"padding-left:0px; padding-right:0px\">\n",
              "<nav class=\"navbar navbar-expand-lg navbar-light bg-light navbar-corporate\">\n",
              "<div class=\"container\">\n",
              "<button aria-controls=\"navbarNav\" aria-expanded=\"false\" aria-label=\"Toggle navigation\" class=\"navbar-toggler my-2\" data-bs-target=\"#navbarNav\" data-bs-toggle=\"collapse\" type=\"button\">\n",
              "<span class=\"navbar-toggler-icon\"></span>\n",
              "</button>\n",
              "<div class=\"collapse navbar-collapse\" id=\"navbarNav\">\n",
              "<ul class=\"navbar-nav justify-content-between\">\n",
              "<li class=\"nav-item dropdown\">\n",
              "<a aria-expanded=\"false\" aria-haspopup=\"true\" class=\"nav-link dropdown-toggle\" data-bs-toggle=\"dropdown\" href=\"#\" id=\"navbarDropdown-1_7139813a-2cbc-4a0f-9339-ef2f1520dbaf\" role=\"button\">\n",
              "\t\t\tAbout FAO\n",
              "\t\t</a>\n",
              "<div aria-labelledby=\"navbarDropdown-1_7139813a-2cbc-4a0f-9339-ef2f1520dbaf\" class=\"dropdown-menu\">\n",
              "<div class=\"container\" id=\"navbarDropdownContent-1_7139813a-2cbc-4a0f-9339-ef2f1520dbaf\">\n",
              "\t\t\t\tLoading...\n",
              "\t\t\t</div>\n",
              "</div>\n",
              "</li>\n",
              "<li class=\"nav-item dropdown\">\n",
              "<a aria-expanded=\"false\" aria-haspopup=\"true\" class=\"nav-link dropdown-toggle\" data-bs-toggle=\"dropdown\" href=\"#\" id=\"navbarDropdown-1_fdbfc60f-11ed-49b6-bbc8-55e9c017cbab\" role=\"button\">\n",
              "\t\t\tNews\n",
              "\t\t</a>\n",
              "<div aria-labelledby=\"navbarDropdown-1_fdbfc60f-11ed-49b6-bbc8-55e9c017cbab\" class=\"dropdown-menu\">\n",
              "<div class=\"container\" id=\"navbarDropdownContent-1_fdbfc60f-11ed-49b6-bbc8-55e9c017cbab\">\n",
              "\t\t\t\tLoading...\n",
              "\t\t\t</div>\n",
              "</div>\n",
              "</li>\n",
              "<li class=\"nav-item dropdown\">\n",
              "<a aria-expanded=\"false\" aria-haspopup=\"true\" class=\"nav-link dropdown-toggle\" data-bs-toggle=\"dropdown\" href=\"#\" id=\"navbarDropdown-1_0e586391-0f07-4398-b111-c6836c9fde1e\" role=\"button\">\n",
              "\t\t\tMultimedia\n",
              "\t\t</a>\n",
              "<div aria-labelledby=\"navbarDropdown-1_0e586391-0f07-4398-b111-c6836c9fde1e\" class=\"dropdown-menu\">\n",
              "<div class=\"container\" id=\"navbarDropdownContent-1_0e586391-0f07-4398-b111-c6836c9fde1e\">\n",
              "\t\t\t\tLoading...\n",
              "\t\t\t</div>\n",
              "</div>\n",
              "</li>\n",
              "<li class=\"nav-item dropdown\">\n",
              "<a aria-expanded=\"false\" aria-haspopup=\"true\" class=\"nav-link dropdown-toggle\" data-bs-toggle=\"dropdown\" href=\"#\" id=\"navbarDropdown-1_56064790-5ff2-4c3a-9229-1af32d7ba2a6\" role=\"button\">\n",
              "\t\t\tMain topics\n",
              "\t\t</a>\n",
              "<div aria-labelledby=\"navbarDropdown-1_56064790-5ff2-4c3a-9229-1af32d7ba2a6\" class=\"dropdown-menu\">\n",
              "<div class=\"container\" id=\"navbarDropdownContent-1_56064790-5ff2-4c3a-9229-1af32d7ba2a6\">\n",
              "\t\t\t\tLoading...\n",
              "\t\t\t</div>\n",
              "</div>\n",
              "</li>\n",
              "<li class=\"nav-item dropdown\">\n",
              "<a aria-expanded=\"false\" aria-haspopup=\"true\" class=\"nav-link dropdown-toggle\" data-bs-toggle=\"dropdown\" href=\"#\" id=\"navbarDropdown-1_3b9266c2-c22f-4328-92a7-81e24fb5868c\" role=\"button\">\n",
              "\t\t\tStatistics\n",
              "\t\t</a>\n",
              "<div aria-labelledby=\"navbarDropdown-1_3b9266c2-c22f-4328-92a7-81e24fb5868c\" class=\"dropdown-menu\">\n",
              "<div class=\"container\" id=\"navbarDropdownContent-1_3b9266c2-c22f-4328-92a7-81e24fb5868c\">\n",
              "\t\t\t\tLoading...\n",
              "\t\t\t</div>\n",
              "</div>\n",
              "</li>\n",
              "<li class=\"nav-item dropdown\">\n",
              "<a aria-expanded=\"false\" aria-haspopup=\"true\" class=\"nav-link dropdown-toggle\" data-bs-toggle=\"dropdown\" href=\"#\" id=\"navbarDropdown-1_3d132cb0-421d-4049-9c3c-cc85c4933bc9\" role=\"button\">\n",
              "\t\t\tMembers\n",
              "\t\t</a>\n",
              "<div aria-labelledby=\"navbarDropdown-1_3d132cb0-421d-4049-9c3c-cc85c4933bc9\" class=\"dropdown-menu\">\n",
              "<div class=\"container\" id=\"navbarDropdownContent-1_3d132cb0-421d-4049-9c3c-cc85c4933bc9\">\n",
              "\t\t\t\tLoading...\n",
              "\t\t\t</div>\n",
              "</div>\n",
              "</li>\n",
              "<li class=\"nav-item dropdown\">\n",
              "<a aria-expanded=\"false\" aria-haspopup=\"true\" class=\"nav-link dropdown-toggle\" data-bs-toggle=\"dropdown\" href=\"#\" id=\"navbarDropdown-1_649221b6-52da-48b8-8e6e-adc374042f1f\" role=\"button\">\n",
              "\t\t\tPublications\n",
              "\t\t</a>\n",
              "<div aria-labelledby=\"navbarDropdown-1_649221b6-52da-48b8-8e6e-adc374042f1f\" class=\"dropdown-menu\">\n",
              "<div class=\"container\" id=\"navbarDropdownContent-1_649221b6-52da-48b8-8e6e-adc374042f1f\">\n",
              "\t\t\t\tLoading...\n",
              "\t\t\t</div>\n",
              "</div>\n",
              "</li>\n",
              "</ul>\n",
              "</div>\n",
              "</div>\n",
              "</nav>\n",
              "<script type=\"text/javascript\">\n",
              "\t(function ($)\n",
              "\t{\n",
              "\t\tvar containerIds = \"navbarDropdownContent-1_7139813a-2cbc-4a0f-9339-ef2f1520dbaf;navbarDropdownContent-1_fdbfc60f-11ed-49b6-bbc8-55e9c017cbab;navbarDropdownContent-1_0e586391-0f07-4398-b111-c6836c9fde1e;navbarDropdownContent-1_56064790-5ff2-4c3a-9229-1af32d7ba2a6;navbarDropdownContent-1_3b9266c2-c22f-4328-92a7-81e24fb5868c;navbarDropdownContent-1_3d132cb0-421d-4049-9c3c-cc85c4933bc9;navbarDropdownContent-1_649221b6-52da-48b8-8e6e-adc374042f1f\".split(\";\");\n",
              "\t\tvar urls = \"/corporatepage/about-fao;/corporatepage/media;/corporatepage/multimedia;/corporatepage/main-topics;/corporatepage/statistics;/corporatepage/member-countries;/corporatepage/publications\".split(\";\");\n",
              "\n",
              "\t\tfunction loadAllContents()\n",
              "\t\t{\n",
              "\t\t\tif (containerIds.length == urls.length)\n",
              "\t\t\t{\n",
              "\t\t\t\tfor (var i = 0; i < containerIds.length; i++)\n",
              "\t\t\t\t{\n",
              "\t\t\t\t\tloadContent(i);\t\t\t\t\n",
              "\t\t\t\t}\n",
              "\t\t\t}\n",
              "\t\t}\n",
              "\n",
              "\t\tfunction loadContent(index)\n",
              "\t\t{\n",
              "\t\t\tvar myIndex = index;\n",
              "\t\t\tif ((urls[myIndex]) && (containerIds[myIndex]))\n",
              "\t\t\t{\n",
              "\t\t\t\t$(\"#\" + containerIds[myIndex]).load(urls[myIndex] + \" #faoNavContent > *\", function (response, status, xhr)\n",
              "\t\t\t\t{\n",
              "\t\t\t\t\tif (status == \"error\")\n",
              "\t\t\t\t\t{\n",
              "\t\t\t\t\t\tvar msg = \"Sorry but there was an error loading \" + urls[myIndex] + \": \";\n",
              "\t\t\t\t\t\tconsole.log(msg + xhr.status + \" \" + xhr.statusText + \" \" + response);\n",
              "\t\t\t\t\t}\n",
              "\t\t\t\t});\n",
              "\t\t\t}\n",
              "\t\t\telse\n",
              "\t\t\t{\n",
              "\t\t\t\tvar msg = \"Sorry but there was an error, url:\" + urls[myIndex] + \"; container:\" + containerIds[myIndex];\n",
              "\t\t\t}\n",
              "\t\t}\n",
              "\n",
              "\t\tloadAllContents();\n",
              "\t})(jQuery);\n",
              "</script>\n",
              "</div>\n",
              "</div>\n",
              "</header>\n",
              "<div class=\"container\" data-page-edit-prevent=\"true\">\n",
              "<div class=\"row\">\n",
              "<div class=\"sf_colsIn col-md-12\" data-placeholder-label=\"Navigation\" data-sf-element=\"Navigation\" id=\"Contentplaceholder1_T78DBE6AB022_Col04\"><div class=\"row\" data-sf-element=\"Row\">\n",
              "<div class=\"sf_colsIn col-md-12 content-icons d-none\" data-placeholder-label=\"Column 1\" data-sf-element=\"Column 1\" id=\"Contentplaceholder1_T78DBE6AB046_Col00\">\n",
              "<script type=\"text/javascript\">\n",
              "    document.addEventListener('DOMContentLoaded', function () {\n",
              "        var documentTitle = document.title;\n",
              "        if (documentTitle.includes(\"|\")) {\n",
              "            documentTitle = documentTitle.split(\"|\").slice(-1)[0]\n",
              "        }\n",
              "        utility.setBreadcrumbActiveItemTitle(documentTitle);\n",
              "    });\n",
              "</script>\n",
              "<nav aria-label=\"breadcrumb\">\n",
              "<ol class=\"breadcrumb\">\n",
              "<li class=\"breadcrumb-item\"><a href=\"https://www.fao.org\">FAO.org</a></li>\n",
              "<li class=\"breadcrumb-item\"><a href=\"/newsroom/en\">Home</a></li>\n",
              "<li aria-current=\"page\" class=\"breadcrumb-item active\">detail</li>\n",
              "</ol>\n",
              "</nav>\n",
              "</div>\n",
              "</div>\n",
              "<div aria-hidden=\"true\" aria-labelledby=\"shareModalLabel\" class=\"modal modal-share fade\" id=\"shareModal\" tabindex=\"-1\">\n",
              "<div class=\"modal-dialog modal-dialog-centered\">\n",
              "<div class=\"modal-content\">\n",
              "<div class=\"modal-header\">\n",
              "<h5 class=\"modal-title\" id=\"shareModalLabel\">\n",
              "                    Share\n",
              "                </h5>\n",
              "<button aria-label=\"Close\" class=\"btn-close\" data-bs-dismiss=\"modal\" type=\"button\"></button>\n",
              "</div>\n",
              "<div class=\"modal-body\">\n",
              "<ul class=\"list-inline social-icons\">\n",
              "<li class=\"list-inline-item\">\n",
              "<a alt=\"facebook\" href=\"https://www.facebook.com/sharer/sharer.php?u=https://www.fao.org/newsroom/detail/world-food-prices-dip-in-december/en\" target=\"_blank\" title=\"facebook\">\n",
              "<img alt=\"facebook\" src=\"/ResourcePackages/FAO/assets/dist/img/social-icons/social-icon-facebook.svg\"/>\n",
              "</a>\n",
              "</li>\n",
              "<li class=\"list-inline-item\">\n",
              "<a alt=\"linkedin\" href=\"https://www.linkedin.com/shareArticle?mini=true&amp;title=detail&amp;url=https://www.fao.org/newsroom/detail/world-food-prices-dip-in-december/en\" target=\"_blank\" title=\"linkedin\">\n",
              "<img alt=\"linkedin\" src=\"/ResourcePackages/FAO/assets/dist/img/social-icons/social-icon-linkedin.svg\"/>\n",
              "</a>\n",
              "</li>\n",
              "<li class=\"list-inline-item\">\n",
              "<a alt=\"pinterest\" href=\"https://pinterest.com/pin/create/button/?url=https://www.fao.org/newsroom/detail/world-food-prices-dip-in-december/en&amp;description=detail\" target=\"_blank\" title=\"pinterest\">\n",
              "<img alt=\"pinterest\" src=\"/ResourcePackages/FAO/assets/dist/img/social-icons/social-icon-pinterest.svg\"/>\n",
              "</a>\n",
              "</li>\n",
              "<li class=\"list-inline-item\">\n",
              "<a alt=\"twitter X\" href=\"https://twitter.com/intent/tweet?text=https://www.fao.org/newsroom/detail/world-food-prices-dip-in-december/en\" target=\"_blank\" title=\"twitter X\">\n",
              "<img alt=\"twitter\" src=\"/ResourcePackages/FAO/assets/dist/img/social-icons/social-icon-twitter-x.svg\"/>\n",
              "</a>\n",
              "</li>\n",
              "<li class=\"list-inline-item\">\n",
              "<a alt=\"weibo\" href=\"https://service.weibo.com/share/share.php?title=detail&amp;url=https://www.fao.org/newsroom/detail/world-food-prices-dip-in-december/en\" target=\"_blank\" title=\"weibo\">\n",
              "<img alt=\"weibo\" src=\"/ResourcePackages/FAO/assets/dist/img/social-icons/social-icon-weibo.svg\"/>\n",
              "</a>\n",
              "</li>\n",
              "</ul>\n",
              "</div>\n",
              "<div class=\"modal-footer\">\n",
              "<button class=\"btn btn-primary\" data-bs-dismiss=\"modal\" type=\"button\">Close</button>\n",
              "</div>\n",
              "</div>\n",
              "</div>\n",
              "</div>\n",
              "<script type=\"application/ld+json\">\n",
              "    {\n",
              "      \"@context\": \"https://schema.org\",\n",
              "      \"@type\": \"BreadcrumbList\",\n",
              "      \"itemListElement\": [\n",
              "{\"@type\": \"ListItem\",\"position\": 1,\"name\": \"Home\",\"item\": \"https://www.fao.org/newsroom/en\"},{\"@type\": \"ListItem\",\"position\": 2,\"name\": \"detail\",\"item\": \"https://www.fao.org/newsroom/detail/en\"}        ]\n",
              "    }\n",
              "</script>\n",
              "</div>\n",
              "</div>\n",
              "</div><div class=\"sf_colsIn container\" data-placeholder-label=\"Container\" data-sf-element=\"Container\" id=\"Contentplaceholder1_C011_Col00\"><div class=\"row\" data-sf-element=\"Row\">\n",
              "<div class=\"sf_colsIn col-md-12 content-icons d-flex justify-content-end mt-3 text-decoration-none\" data-placeholder-label=\"Column 1\" data-sf-element=\"Column 1\" id=\"Contentplaceholder1_C014_Col00\">\n",
              "</div>\n",
              "</div>\n",
              "<div class=\"row\" data-sf-element=\"Row\">\n",
              "<div class=\"sf_colsIn col-md-12\" data-placeholder-label=\"Column 1\" data-sf-element=\"Column 1\" id=\"Contentplaceholder1_C015_Col00\">\n",
              "<script type=\"application/ld+json\">\n",
              "    {\n",
              "    \"@context\" : \"http://schema.org\",\n",
              "    \"@type\" : \"Article\",\n",
              "    \"name\" : \"World food prices dip in December\",\n",
              "    \"publisher\": {\n",
              "        \"@type\": \"Organization\",\n",
              "        \"name\": \"FAO\",\n",
              "        \"logo\": {\n",
              "        \"@type\": \"ImageObject\",\n",
              "        \"url\": \"https://www.fao.org/ResourcePackages/FAO/assets/dist/img/FAO-logo.JPG\"\n",
              "        }\n",
              "    },\n",
              "    \"datePublished\" : \"06/01/2023\"\n",
              "    }\n",
              "</script>\n",
              "<div>\n",
              "<div class=\"row\">\n",
              "<div class=\"col-md-12\">\n",
              "<h1 class=\"detail-title mt-4 mb-3\">World food prices dip in December</h1>\n",
              "<p class=\"mb-3 text-color-gray-medium\">FAO Food Price Index ends 2022 lower than a year earlier</p>\n",
              "<img alt=\"\" class=\"image-widget img-responsive img-hero mb-3\" src=\"https://www.fao.org/images/newsroomlibraries/default-album/fao_25042_1608.jpg?sfvrsn=afcb0cd1_5\" title=\"World food prices dip in December\"/>\n",
              "<div class=\"row mb-3\">\n",
              "<div class=\"col-md-9\">\n",
              "<p class=\"small text-color-gray-medium\">\n",
              "                                A farmer in Sicily carrying wheat seeds.\n",
              "                            </p> </div>\n",
              "<div class=\"col-md-3 text-end\">\n",
              "<p class=\"small text-color-gray-medium\">©FAO/Giorgio Cosulich</p> </div>\n",
              "</div>\n",
              "<div class=\"row\">\n",
              "<div class=\"col-md-9\">\n",
              "<div class=\"news-detail mb-3\">\n",
              "<span class=\"news - detail__date\">06/01/2023</span>\n",
              "</div>\n",
              "<div class=\"news-detail__body\">\n",
              "<p><strong>Rome –</strong> The index of world food prices dipped for the ninth consecutive month in December 2022, declining by 1.9 percent from the previous month, the Food and Agriculture Organization of the United Nations (FAO) reported today. <br/><strong><br/></strong>The <a data-sf-ec-immutable=\"\" href=\"http://www.fao.org/worldfoodsituation/foodpricesindex/en/\">FAO Food Price Index</a> averaged 132.4 points in December, 1.0 percent below its value a year earlier. However, for 2022 as a whole, the index, which tracks monthly changes in the international prices of commonly-traded food commodities, averaged 143.7 points, 14.3 percent higher than the average value over 2021. <br/><br/>“Calmer food commodity prices are welcome after two very volatile years,” said FAO Chief Economist Maximo Torero. “It is important to remain vigilant and keep a strong focus on mitigating global food insecurity given that world food prices remain at elevated levels, with many staples near record highs, and with prices of rice increasing, and still many risks associated with future supplies” <br/><br/>Vegetable oil world quotations led the decrease, with the FAO Vegetable Oil Price Index down 6.7 percent from November to reach its lowest level since February 2021. International quotations for palm, soy, rapeseed and sunflowerseed oils all declined in December, driven by subdued global import demand and prospects of seasonally rising soy oil production in South America as well as declining crude oil prices.<br/><br/>The FAO Cereal Price Index decreased 1.9 percent from November. Ongoing harvests in the southern hemisphere boosted wheat exportable supplies, while strong competition from Brazil drove down world maize prices. Conversely, international rice prices rose, buoyed by Asian buying and currency appreciation against the United States dollar for exporting countries. <br/><br/>The FAO Meat Price Index in December dropped by 1.2 percent from November, with lower world prices of bovine and poultry meats outweighing higher pig and ovine meat prices. International bovine meat prices were impacted by lacklustre global demand for medium-term supplies, while more-than-adequate export supplies pushed down poultry meat prices. Pig meat prices rose on the back of strong internal holiday demand, especially in Europe, <br/><br/>The FAO Dairy Price Index increased by 1.2 percent in December, following five months of consecutive declines. Higher international cheese prices, reflecting tightening market conditions, drove the monthly increase in the index, while international quotations for butter and milk powder declined. <br/><br/>The FAO Sugar Price Index also rose, increasing by 2.4 percent from November, mostly due to concerns over the impact of adverse weather conditions on crop yields in India and sugarcane crushing delays in Thailand and Australia. <br/><br/><strong>Looking back on 2022<br/></strong><br/>As noted, the FAO Food Price Index average over 2022 was notably higher than the previous year, which on top of large increases in <a data-sf-ec-immutable=\"\" href=\"https://www.fao.org/newsroom/detail/FAO-Food-Price-Index-december-2022/en\">2021</a> catalyzed significant strains and food security concerns for lower-income food-importing countries and the adoption, <a data-sf-ec-immutable=\"\" href=\"https://www.fao.org/3/cb9444en/cb9444en.pdf\">inspired by FAO</a>, of a “Food Shock Window” lending facility by the <a data-sf-ec-immutable=\"\" href=\"https://www.imf.org/en/News/Articles/2022/10/05/pr22335-imf-approves-a-new-food-shock-window-and-an-enhanced-staff-monitored-program\">International Monetary Fund</a>. <br/><br/>World prices of wheat and maize reached record highs over the year. The average value of the FAO Vegetable Oil Price Index for all of 2022 reached a new record high, while the FAO Dairy Price Index and Meat Price Index marked their highest full-year levels since 1990.</p><p>More details are available <a data-sf-ec-immutable=\"\" href=\"http://www.fao.org/worldfoodsituation/foodpricesindex/en/\">here</a>.<br/><br/></p>\n",
              "<div class=\"row\">\n",
              "<div class=\"col-lg-6\">\n",
              "<h5 class=\"sub-title small\">More on this topic</h5>\n",
              "<a data-sf-ec-immutable=\"\" href=\"https://www.fao.org/worldfoodsituation/foodpricesindex/en/\" target=\"_blank\">FAO Food Price Index</a><br/><a data-sf-ec-immutable=\"\" href=\"https://www.fao.org/worldfoodsituation/csdb/en/\" target=\"_blank\">FAO's most recent Cereal Supply and Demand Brief</a><br/><a data-sf-ec-immutable=\"\" href=\"http://www.amis-outlook.org/amis-monitoring/monthly-report/en/\" target=\"_blank\">AMIS: Market Monitor</a><br/><a data-sf-ec-immutable=\"\" href=\"http://www.amis-outlook.org/\" target=\"_blank\">Agricultural Market Information System (AMIS)</a><br/><a data-sf-ec-immutable=\"\" href=\"http://www.fao.org/markets-and-trade\">FAO Markets and Trade</a>\n",
              "</div>\n",
              "</div>\n",
              "</div>\n",
              "<!-- Show Tags -->\n",
              "</div>\n",
              "<div class=\"col-md-3\">\n",
              "<div class=\"card text-color-default bg-primary-light contact__list\">\n",
              "<div class=\"card-body\">\n",
              "<h5 class=\"mb-3\">Contact</h5>\n",
              "<p>\n",
              "<span class=\"d-block\"><b>Christopher Emsden</b></span>\n",
              "<span class=\"d-block\">FAO News and Media (Rome)</span>\n",
              "<span class=\"d-block\">(+39) 06 570 53291</span>\n",
              "<a href=\"/cdn-cgi/l/email-protection#ec8f849e859f98839c84899ec289819f888982ac8a8d83c2839e8b\"><span class=\"__cf_email__\" data-cfemail=\"5b38332932282f342b333e29753e36283f3e351b3d3a347534293c\">[email protected]</span></a>\n",
              "</p>\n",
              "<p>\n",
              "<span class=\"d-block\"><b>FAO News and Media</b></span>\n",
              "<span class=\"d-block\"></span>\n",
              "<span class=\"d-block\">(+39) 06 570 53625</span>\n",
              "<a href=\"/cdn-cgi/l/email-protection#195f585634577c6e6a6b767674597f787637766b7e\"><span class=\"__cf_email__\" data-cfemail=\"c187808eec8fa4b6b2b3aeaeac81a7a0aeefaeb3a6\">[email protected]</span></a>\n",
              "</p>\n",
              "</div>\n",
              "</div>\n",
              "</div>\n",
              "</div>\n",
              "</div>\n",
              "</div>\n",
              "</div>\n",
              "</div>\n",
              "</div>\n",
              "</div>\n",
              "<footer class=\"sf_colsIn footer\" data-page-edit-prevent=\"true\" data-placeholder-label=\"Footer\" data-sf-element=\"Footer\" id=\"Contentplaceholder1_T198B1AC4002_Col00\"><div class=\"sf_colsIn container\" data-placeholder-label=\"Container\" data-sf-element=\"Container\" id=\"Contentplaceholder1_T198B1AC4003_Col00\"><div class=\"sf_colsIn row\" data-placeholder-label=\"Row\" data-sf-element=\"Row\" id=\"Contentplaceholder1_T198B1AC4005_Col00\">\n",
              "<div aria-hidden=\"true\" class=\"modal fade\" data-keyboard=\"true\" id=\"WeChatModal\" role=\"dialog\" tabindex=\"-1\">\n",
              "<div class=\"modal-dialog modal-dialog-centered\">\n",
              "<div class=\"modal-content\">\n",
              "<div class=\"modal-header\">\n",
              "<h5 class=\"modal-title\">\n",
              "                    WeChat\n",
              "                </h5>\n",
              "<button aria-label=\"Close\" class=\"btn-close\" data-bs-dismiss=\"modal\" type=\"button\"></button>\n",
              "</div>\n",
              "<div class=\"modal-body text-center\"><img alt=\"\" src=\"https://www.fao.org/images/corporatelibraries/social-icons/wechat_qr.jpg\"/></div>\n",
              "</div>\n",
              "</div>\n",
              "</div><!-- Modal div ended here -->\n",
              "<div class=\"footer-logo col-md-7\">\n",
              "<div class=\"sfContentBlock sf-Long-text\"><img alt=\"Food and Agriculture Organization of the United Nations\" data-displaymode=\"Original\" sf-size=\"312\" src=\"/images/corporatelibraries/fao-images/fao-global.svg?sfvrsn=aa1f8647_1\" title=\"Food and Agriculture Organization of the United Nations\"/></div>\n",
              "</div>\n",
              "<div class=\"footer-social col-md-5\">\n",
              "<div class=\"sfContentBlock sf-Long-text\"><h6 class=\"title-category\">Follow us on</h6><ul class=\"list-inline social-icons\"><li class=\"list-inline-item\"><a alt=\"facebook\" href=\"http://www.facebook.com/pages/Food-and-Agriculture-Organization-of-the-United-Nations-FAO/46370758585?ref=mf\" target=\"_blank\" title=\"facebook\"><img alt=\"icon-facebook\" data-displaymode=\"Original\" src=\"/images/corporatelibraries/social-icons/social-icon-facebook.svg?sfvrsn=b87ff153_3\" title=\"social-icon-facebook\"/></a>\n",
              "</li><li class=\"list-inline-item\"><a alt=\"instagram\" href=\"https://instagram.com/fao\" target=\"_blank\" title=\"instagram\"><img alt=\"icon-instagram\" data-displaymode=\"Original\" src=\"/images/corporatelibraries/social-icons/social-icon-instagram.svg?sfvrsn=a778452f_3\" title=\"social-icon-instagram\"/></a>\n",
              "</li><li class=\"list-inline-item\"><a alt=\"linkedin\" href=\"http://www.linkedin.com/company/fao\" target=\"_blank\" title=\"linkedin\"><img alt=\"icon-linkedin\" data-displaymode=\"Original\" src=\"/images/corporatelibraries/social-icons/social-icon-linkedin.svg?sfvrsn=1025492c_3\" title=\"social-icon-linkedin\"/></a>\n",
              "</li><li class=\"list-inline-item\"><a alt=\"soundcloud\" href=\"https://soundcloud.com/unfao\" target=\"_blank\" title=\"soundcloud\"><img alt=\"icon-soundcloud\" data-displaymode=\"Original\" src=\"/images/corporatelibraries/social-icons/social-icon-soundcloud.svg?sfvrsn=26e63892_3\" title=\"social-icon-soundcloud\"/></a>\n",
              "</li><li class=\"list-inline-item\"><a alt=\"tiktok\" href=\"https://www.tiktok.com/@fao\" target=\"_blank\" title=\"tiktok\"><img alt=\"icon-tiktok\" data-displaymode=\"Original\" src=\"/images/corporatelibraries/social-icons/social-icon-tiktok.svg?sfvrsn=b2228fd0_3\" title=\"social-icon-tiktok\"/></a>\n",
              "</li><li class=\"list-inline-item\"><a alt=\"tuotiao\" href=\"https://www.toutiao.com/c/user/token/MS4wLjABAAAAddfBLLYL2GZzXAetR_paFVV1-M4fdAWpUxiROxuOpl7pDGuXLCGfYg_VOogU135J/\" target=\"_blank\" title=\"tuotiao\"><img alt=\"icon-tuotiao\" data-displaymode=\"Original\" src=\"/images/corporatelibraries/social-icons/social-icon-tuotiao.svg?sfvrsn=1883ae3_3\" title=\"social-icon-tuotiao\"/></a>\n",
              "</li><li class=\"list-inline-item\"><a alt=\"WeChat\" data-bs-target=\"#WeChatModal\" data-bs-toggle=\"modal\" style=\"cursor: pointer\" title=\"WeChat\"><img alt=\"icon-wechat\" data-displaymode=\"Original\" src=\"/images/corporatelibraries/social-icons/social-icon-wechat.svg?sfvrsn=cd28c1ee_3\" title=\"social-icon-wechat\"/></a>\n",
              "</li><li class=\"list-inline-item\"><a alt=\"weibo\" href=\"http://www.weibo.com/unfao?from=myfollow_all\" target=\"_blank\" title=\"weibo\"><img alt=\"icon-weibo\" data-displaymode=\"Original\" src=\"/images/corporatelibraries/social-icons/social-icon-weibo.svg?sfvrsn=7b5b0403_3\" title=\"social-icon-weibo\"/></a>\n",
              "</li><li class=\"list-inline-item\"><a alt=\"whatsapp\" href=\"https://bit.ly/3BBpfEq\" target=\"_blank\" title=\"whatsapp\"><img alt=\"icon-whatsapp\" data-displaymode=\"Original\" src=\"/images/corporatelibraries/social-icons/whatsapp-icon.svg?sfvrsn=6cfc5647_1\" title=\"social-icon-whatsapp\"/></a>\n",
              "</li><li class=\"list-inline-item\"><a alt=\"X\" href=\"https://x.com/FAO\" target=\"_blank\" title=\"X\"><img alt=\"icon-X\" data-displaymode=\"Original\" src=\"/images/corporatelibraries/social-icons/social-icon-twitter.svg?sfvrsn=c68bb7c2_4\" title=\"social-icon-X\"/></a>\n",
              "</li><li class=\"list-inline-item\"><a alt=\"youtube\" href=\"http://www.youtube.com/user/FAOoftheUN\" target=\"_blank\" title=\"youtube\"><img alt=\"icon-youtube\" data-displaymode=\"Original\" src=\"/images/corporatelibraries/social-icons/social-icon-youtube.svg?sfvrsn=94de1814_3\" title=\"social-icon-youtube\"/></a>\n",
              "</li></ul></div>\n",
              "</div>\n",
              "</div>\n",
              "<div class=\"sf_colsIn row\" data-placeholder-label=\"Row\" data-sf-element=\"Row\" id=\"Contentplaceholder1_T198B1AC4004_Col00\"><div class=\"footer-links col-md-7\">\n",
              "<div class=\"sf_colsIn footer-links-top\" data-placeholder-label=\"Footer Links Top\" data-sf-element=\"Footer Links Top\" id=\"Contentplaceholder1_T198B1AC4006_Col00\">\n",
              "<div class=\"\">\n",
              "<a href=\"https://www.fao.org/about/org-chart/en/\" target=\"_self\">FAO Organizational Chart</a>\n",
              "</div>\n",
              "<div class=\"btn-group dropup\">\n",
              "<button aria-expanded=\"false\" aria-haspopup=\"true\" class=\"btn btn-secondary dropdown-toggle\" data-bs-toggle=\"dropdown\" type=\"button\">\n",
              "            Worldwide offices\n",
              "        </button>\n",
              "<div class=\"dropdown-menu\">\n",
              "<a class=\"dropdown-item\" href=\"https://www.fao.org/africa/en/\" target=\"_self\">Regional Office for Africa</a>\n",
              "<a class=\"dropdown-item\" href=\"https://www.fao.org/asiapacific/en/\" target=\"_self\">Regional Office for Asia and the Pacific</a>\n",
              "<a class=\"dropdown-item\" href=\"https://www.fao.org/europe/en/\" target=\"_self\">Regional Office for Europe and Central Asia</a>\n",
              "<a class=\"dropdown-item\" href=\"https://www.fao.org/americas/en/\" target=\"_self\">Regional Office for Latin America and the Caribbean</a>\n",
              "<a class=\"dropdown-item\" href=\"https://www.fao.org/neareast/en/\" target=\"_self\">Regional Office for the Near East and North Africa</a>\n",
              "<a class=\"dropdown-item\" href=\"https://www.fao.org/about/who-we-are/worldwide-offices/en\" target=\"_self\">Country Offices</a>\n",
              "</div>\n",
              "</div>\n",
              "</div>\n",
              "<div class=\"sf_colsIn footer-links-bottom\" data-placeholder-label=\"Footer Links Bottom\" data-sf-element=\"Footer Links Bottom\" id=\"Contentplaceholder1_T198B1AC4006_Col01\">\n",
              "<ul class=\"list-inline\">\n",
              "<li class=\"list-inline-item\">\n",
              "<a href=\"https://www.fao.org/employment/home/en/\" target=\"_self\">Jobs</a>\n",
              "</li>\n",
              "<li class=\"list-inline-item\">\n",
              "<a href=\"https://fao.org/contact-us/en/\" target=\"_self\">Contact us</a>\n",
              "</li>\n",
              "<li class=\"list-inline-item\">\n",
              "<a href=\"https://fao.org/contact-us/terms/en/\" target=\"_self\">Terms and Conditions</a>\n",
              "</li>\n",
              "<li class=\"list-inline-item\">\n",
              "<a href=\"https://fao.org/contact-us/data-protection-and-privacy/en/\" target=\"_self\">Data protection and privacy</a>\n",
              "</li>\n",
              "<li class=\"list-inline-item\">\n",
              "<a href=\"https://fao.org/contact-us/scam-alert/en/\" target=\"_self\">Scam Alert</a>\n",
              "</li>\n",
              "<li class=\"list-inline-item\">\n",
              "<a href=\"https://www.fao.org/contact-us/report-misconduct/en/\" target=\"_self\">Report Misconduct</a>\n",
              "</li>\n",
              "<li class=\"list-inline-item\">\n",
              "<a href=\"https://www.fao.org/transparency/en\" target=\"_self\">Transparency and accountability</a>\n",
              "</li>\n",
              "</ul>\n",
              "</div>\n",
              "</div>\n",
              "<div class=\"footer-download col-md-5\">\n",
              "<div class=\"sfContentBlock sf-Long-text\"><a class=\"copyright\" data-sf-ec-immutable=\"\" href=\"https://www.fao.org/contact-us/terms/en/\">© FAO 2025</a></div>\n",
              "</div>\n",
              "</div>\n",
              "</div>\n",
              "</footer>\n",
              "</div> <script data-cfasync=\"false\" src=\"/cdn-cgi/scripts/5c5dd728/cloudflare-static/email-decode.min.js\"></script><script src=\"/ResourcePackages/Bootstrap5/assets/dist/js/popper.min.js?v=2.11.8\" type=\"text/javascript\"></script><script src=\"/ResourcePackages/Bootstrap5/assets/dist/js/bootstrap.min.js?v=5.3.3\" type=\"text/javascript\"></script><script src=\"/Frontend-Assembly/SitefinityWebApp/Mvc/Scripts/FaoLanguageSelector/language-selector.js?package=FAO&amp;v=LTE1MTMxNjg5NjA%3d\" type=\"text/javascript\"></script><script src=\"/ResourcePackages/FAO/assets/dist/js/utility.min.js\" type=\"text/javascript\"></script><script id=\"PersonalizationTracker\" type=\"application/json\">\n",
              "\t{\"IsPagePersonalizationTarget\":false,\"IsUrlPersonalizationTarget\":false,\"PageId\":\"485bd31b-ba60-4dec-a482-48f9ba616640\"}\n",
              "</script><script src=\"/WebResource.axd?d=NjxTqR2bqTw1rewxxlkHPoBB5CDatGYzZ3CWgf1FPNEBuDUZPbAL6EI4dDKbkSdIDdnRDsMyEI1n0bYSuQyPjOMXCNtK20UMe0VarzrEJK3kSl-dB6u-nSg0V62BML_GKgsoVZeWfO-Bb3BI27iNMkTOw9HcDWBzxMNlHZ9B2lK0g7tyFX7r8CxiFBcic142WC75xOF1g27QH0LQ_zZEqJqimpg1T2wEwSEcGdIePyI1&amp;t=638575176900000000\" type=\"text/javascript\">\n",
              "</script><input data-sf-role=\"en\" type=\"hidden\" value=\"https://www.fao.org/newsroom/detail/world-food-prices-dip-in-december/en\"/><input data-sf-role=\"ar\" type=\"hidden\" value=\"https://www.fao.org/newsroom/detail/world-food-prices-dip-in-december/ar\"/><input data-sf-role=\"zh\" type=\"hidden\" value=\"https://www.fao.org/newsroom/detail/world-food-prices-dip-in-december/zh\"/><input data-sf-role=\"fr\" type=\"hidden\" value=\"https://www.fao.org/newsroom/detail/world-food-prices-dip-in-december/fr\"/><input data-sf-role=\"ru\" type=\"hidden\" value=\"https://www.fao.org/newsroom/detail/world-food-prices-dip-in-december/ru\"/><input data-sf-role=\"es\" type=\"hidden\" value=\"https://www.fao.org/newsroom/detail/world-food-prices-dip-in-december/es\"/><input data-sf-role=\"it\" type=\"hidden\" value=\"\"/> </body> </html>"
            ]
          },
          "metadata": {},
          "execution_count": 86
        }
      ]
    },
    {
      "cell_type": "code",
      "source": [
        "soup = BeautifulSoup(xu.content, \"html.parser\")\n",
        "data = soup.find(id = \"Contentplaceholder1_C011_Col00\")\n",
        "data"
      ],
      "metadata": {
        "id": "7UXsQ5_uofxA",
        "outputId": "1e3c313e-8b8c-45db-954a-b0915ee4b09b",
        "colab": {
          "base_uri": "https://localhost:8080/"
        }
      },
      "id": "7UXsQ5_uofxA",
      "execution_count": 89,
      "outputs": [
        {
          "output_type": "execute_result",
          "data": {
            "text/plain": [
              "<div class=\"sf_colsIn container\" data-placeholder-label=\"Container\" data-sf-element=\"Container\" id=\"Contentplaceholder1_C011_Col00\"><div class=\"row\" data-sf-element=\"Row\">\n",
              "<div class=\"sf_colsIn col-md-12 content-icons d-flex justify-content-end mt-3 text-decoration-none\" data-placeholder-label=\"Column 1\" data-sf-element=\"Column 1\" id=\"Contentplaceholder1_C014_Col00\">\n",
              "</div>\n",
              "</div>\n",
              "<div class=\"row\" data-sf-element=\"Row\">\n",
              "<div class=\"sf_colsIn col-md-12\" data-placeholder-label=\"Column 1\" data-sf-element=\"Column 1\" id=\"Contentplaceholder1_C015_Col00\">\n",
              "<script type=\"application/ld+json\">\n",
              "    {\n",
              "    \"@context\" : \"http://schema.org\",\n",
              "    \"@type\" : \"Article\",\n",
              "    \"name\" : \"World food prices dip in December\",\n",
              "    \"publisher\": {\n",
              "        \"@type\": \"Organization\",\n",
              "        \"name\": \"FAO\",\n",
              "        \"logo\": {\n",
              "        \"@type\": \"ImageObject\",\n",
              "        \"url\": \"https://www.fao.org/ResourcePackages/FAO/assets/dist/img/FAO-logo.JPG\"\n",
              "        }\n",
              "    },\n",
              "    \"datePublished\" : \"06/01/2023\"\n",
              "    }\n",
              "</script>\n",
              "<div>\n",
              "<div class=\"row\">\n",
              "<div class=\"col-md-12\">\n",
              "<h1 class=\"detail-title mt-4 mb-3\">World food prices dip in December</h1>\n",
              "<p class=\"mb-3 text-color-gray-medium\">FAO Food Price Index ends 2022 lower than a year earlier</p>\n",
              "<img alt=\"\" class=\"image-widget img-responsive img-hero mb-3\" src=\"https://www.fao.org/images/newsroomlibraries/default-album/fao_25042_1608.jpg?sfvrsn=afcb0cd1_5\" title=\"World food prices dip in December\"/>\n",
              "<div class=\"row mb-3\">\n",
              "<div class=\"col-md-9\">\n",
              "<p class=\"small text-color-gray-medium\">\n",
              "                                A farmer in Sicily carrying wheat seeds.\n",
              "                            </p> </div>\n",
              "<div class=\"col-md-3 text-end\">\n",
              "<p class=\"small text-color-gray-medium\">©FAO/Giorgio Cosulich</p> </div>\n",
              "</div>\n",
              "<div class=\"row\">\n",
              "<div class=\"col-md-9\">\n",
              "<div class=\"news-detail mb-3\">\n",
              "<span class=\"news - detail__date\">06/01/2023</span>\n",
              "</div>\n",
              "<div class=\"news-detail__body\">\n",
              "<p><strong>Rome –</strong> The index of world food prices dipped for the ninth consecutive month in December 2022, declining by 1.9 percent from the previous month, the Food and Agriculture Organization of the United Nations (FAO) reported today. <br/><strong><br/></strong>The <a data-sf-ec-immutable=\"\" href=\"http://www.fao.org/worldfoodsituation/foodpricesindex/en/\">FAO Food Price Index</a> averaged 132.4 points in December, 1.0 percent below its value a year earlier. However, for 2022 as a whole, the index, which tracks monthly changes in the international prices of commonly-traded food commodities, averaged 143.7 points, 14.3 percent higher than the average value over 2021. <br/><br/>“Calmer food commodity prices are welcome after two very volatile years,” said FAO Chief Economist Maximo Torero. “It is important to remain vigilant and keep a strong focus on mitigating global food insecurity given that world food prices remain at elevated levels, with many staples near record highs, and with prices of rice increasing, and still many risks associated with future supplies” <br/><br/>Vegetable oil world quotations led the decrease, with the FAO Vegetable Oil Price Index down 6.7 percent from November to reach its lowest level since February 2021. International quotations for palm, soy, rapeseed and sunflowerseed oils all declined in December, driven by subdued global import demand and prospects of seasonally rising soy oil production in South America as well as declining crude oil prices.<br/><br/>The FAO Cereal Price Index decreased 1.9 percent from November. Ongoing harvests in the southern hemisphere boosted wheat exportable supplies, while strong competition from Brazil drove down world maize prices. Conversely, international rice prices rose, buoyed by Asian buying and currency appreciation against the United States dollar for exporting countries. <br/><br/>The FAO Meat Price Index in December dropped by 1.2 percent from November, with lower world prices of bovine and poultry meats outweighing higher pig and ovine meat prices. International bovine meat prices were impacted by lacklustre global demand for medium-term supplies, while more-than-adequate export supplies pushed down poultry meat prices. Pig meat prices rose on the back of strong internal holiday demand, especially in Europe, <br/><br/>The FAO Dairy Price Index increased by 1.2 percent in December, following five months of consecutive declines. Higher international cheese prices, reflecting tightening market conditions, drove the monthly increase in the index, while international quotations for butter and milk powder declined. <br/><br/>The FAO Sugar Price Index also rose, increasing by 2.4 percent from November, mostly due to concerns over the impact of adverse weather conditions on crop yields in India and sugarcane crushing delays in Thailand and Australia. <br/><br/><strong>Looking back on 2022<br/></strong><br/>As noted, the FAO Food Price Index average over 2022 was notably higher than the previous year, which on top of large increases in <a data-sf-ec-immutable=\"\" href=\"https://www.fao.org/newsroom/detail/FAO-Food-Price-Index-december-2022/en\">2021</a> catalyzed significant strains and food security concerns for lower-income food-importing countries and the adoption, <a data-sf-ec-immutable=\"\" href=\"https://www.fao.org/3/cb9444en/cb9444en.pdf\">inspired by FAO</a>, of a “Food Shock Window” lending facility by the <a data-sf-ec-immutable=\"\" href=\"https://www.imf.org/en/News/Articles/2022/10/05/pr22335-imf-approves-a-new-food-shock-window-and-an-enhanced-staff-monitored-program\">International Monetary Fund</a>. <br/><br/>World prices of wheat and maize reached record highs over the year. The average value of the FAO Vegetable Oil Price Index for all of 2022 reached a new record high, while the FAO Dairy Price Index and Meat Price Index marked their highest full-year levels since 1990.</p><p>More details are available <a data-sf-ec-immutable=\"\" href=\"http://www.fao.org/worldfoodsituation/foodpricesindex/en/\">here</a>.<br/><br/></p>\n",
              "<div class=\"row\">\n",
              "<div class=\"col-lg-6\">\n",
              "<h5 class=\"sub-title small\">More on this topic</h5>\n",
              "<a data-sf-ec-immutable=\"\" href=\"https://www.fao.org/worldfoodsituation/foodpricesindex/en/\" target=\"_blank\">FAO Food Price Index</a><br/><a data-sf-ec-immutable=\"\" href=\"https://www.fao.org/worldfoodsituation/csdb/en/\" target=\"_blank\">FAO's most recent Cereal Supply and Demand Brief</a><br/><a data-sf-ec-immutable=\"\" href=\"http://www.amis-outlook.org/amis-monitoring/monthly-report/en/\" target=\"_blank\">AMIS: Market Monitor</a><br/><a data-sf-ec-immutable=\"\" href=\"http://www.amis-outlook.org/\" target=\"_blank\">Agricultural Market Information System (AMIS)</a><br/><a data-sf-ec-immutable=\"\" href=\"http://www.fao.org/markets-and-trade\">FAO Markets and Trade</a>\n",
              "</div>\n",
              "</div>\n",
              "</div>\n",
              "<!-- Show Tags -->\n",
              "</div>\n",
              "<div class=\"col-md-3\">\n",
              "<div class=\"card text-color-default bg-primary-light contact__list\">\n",
              "<div class=\"card-body\">\n",
              "<h5 class=\"mb-3\">Contact</h5>\n",
              "<p>\n",
              "<span class=\"d-block\"><b>Christopher Emsden</b></span>\n",
              "<span class=\"d-block\">FAO News and Media (Rome)</span>\n",
              "<span class=\"d-block\">(+39) 06 570 53291</span>\n",
              "<a href=\"/cdn-cgi/l/email-protection#ec8f849e859f98839c84899ec289819f888982ac8a8d83c2839e8b\"><span class=\"__cf_email__\" data-cfemail=\"5b38332932282f342b333e29753e36283f3e351b3d3a347534293c\">[email protected]</span></a>\n",
              "</p>\n",
              "<p>\n",
              "<span class=\"d-block\"><b>FAO News and Media</b></span>\n",
              "<span class=\"d-block\"></span>\n",
              "<span class=\"d-block\">(+39) 06 570 53625</span>\n",
              "<a href=\"/cdn-cgi/l/email-protection#195f585634577c6e6a6b767674597f787637766b7e\"><span class=\"__cf_email__\" data-cfemail=\"c187808eec8fa4b6b2b3aeaeac81a7a0aeefaeb3a6\">[email protected]</span></a>\n",
              "</p>\n",
              "</div>\n",
              "</div>\n",
              "</div>\n",
              "</div>\n",
              "</div>\n",
              "</div>\n",
              "</div>\n",
              "</div>\n",
              "</div>\n",
              "</div>"
            ]
          },
          "metadata": {},
          "execution_count": 89
        }
      ]
    },
    {
      "cell_type": "code",
      "source": [
        "for i in data:\n",
        "  print(\"xu\", i.text if len(i.text) !=0 else \"NONE\")"
      ],
      "metadata": {
        "id": "zUQSO3AGsDq7",
        "outputId": "453d87c8-0f4d-4e1f-d13b-bfecd0165c10",
        "colab": {
          "base_uri": "https://localhost:8080/"
        }
      },
      "id": "zUQSO3AGsDq7",
      "execution_count": 99,
      "outputs": [
        {
          "output_type": "stream",
          "name": "stdout",
          "text": [
            "xu \n",
            "\n",
            "\n",
            "\n",
            "xu \n",
            "\n",
            "xu \n",
            "\n",
            "\n",
            "\n",
            "\n",
            "\n",
            "World food prices dip in December\n",
            "FAO Food Price Index ends 2022 lower than a year earlier\n",
            "\n",
            "\n",
            "\n",
            "\r\n",
            "                                A farmer in Sicily carrying wheat seeds.\r\n",
            "                             \n",
            "\n",
            "©FAO/Giorgio Cosulich \n",
            "\n",
            "\n",
            "\n",
            "\n",
            "06/01/2023\n",
            "\n",
            "\n",
            "Rome – The index of world food prices dipped for the ninth consecutive month in December 2022, declining by 1.9 percent from the previous month, the Food and Agriculture Organization of the United Nations (FAO) reported today. The FAO Food Price Index averaged 132.4 points in December, 1.0 percent below its value a year earlier. However, for 2022 as a whole, the index, which tracks monthly changes in the international prices of commonly-traded food commodities, averaged 143.7 points, 14.3 percent higher than the average value over 2021. “Calmer food commodity prices are welcome after two very volatile years,” said FAO Chief Economist Maximo Torero. “It is important to remain vigilant and keep a strong focus on mitigating global food insecurity given that world food prices remain at elevated levels, with many staples near record highs, and with prices of rice increasing, and still many risks associated with future supplies” Vegetable oil world quotations led the decrease, with the FAO Vegetable Oil Price Index down 6.7 percent from November to reach its lowest level since February 2021. International quotations for palm, soy, rapeseed and sunflowerseed oils all declined in December, driven by subdued global import demand and prospects of seasonally rising soy oil production in South America as well as declining crude oil prices.The FAO Cereal Price Index decreased 1.9 percent from November. Ongoing harvests in the southern hemisphere boosted wheat exportable supplies, while strong competition from Brazil drove down world maize prices. Conversely, international rice prices rose, buoyed by Asian buying and currency appreciation against the United States dollar for exporting countries. The FAO Meat Price Index in December dropped by 1.2 percent from November, with lower world prices of bovine and poultry meats outweighing higher pig and ovine meat prices. International bovine meat prices were impacted by lacklustre global demand for medium-term supplies, while more-than-adequate export supplies pushed down poultry meat prices. Pig meat prices rose on the back of strong internal holiday demand, especially in Europe, The FAO Dairy Price Index increased by 1.2 percent in December, following five months of consecutive declines. Higher international cheese prices, reflecting tightening market conditions, drove the monthly increase in the index, while international quotations for butter and milk powder declined. The FAO Sugar Price Index also rose, increasing by 2.4 percent from November, mostly due to concerns over the impact of adverse weather conditions on crop yields in India and sugarcane crushing delays in Thailand and Australia. Looking back on 2022As noted, the FAO Food Price Index average over 2022 was notably higher than the previous year, which on top of large increases in 2021 catalyzed significant strains and food security concerns for lower-income food-importing countries and the adoption, inspired by FAO, of a “Food Shock Window” lending facility by the International Monetary Fund. World prices of wheat and maize reached record highs over the year. The average value of the FAO Vegetable Oil Price Index for all of 2022 reached a new record high, while the FAO Dairy Price Index and Meat Price Index marked their highest full-year levels since 1990.More details are available here.\n",
            "\n",
            "\n",
            "More on this topic\n",
            "FAO Food Price IndexFAO's most recent Cereal Supply and Demand BriefAMIS: Market MonitorAgricultural Market Information System (AMIS)FAO Markets and Trade\n",
            "\n",
            "\n",
            "\n",
            "\n",
            "\n",
            "\n",
            "\n",
            "\n",
            "Contact\n",
            "\n",
            "Christopher Emsden\n",
            "FAO News and Media (Rome)\n",
            "(+39) 06 570 53291\n",
            "[email protected]\n",
            "\n",
            "\n",
            "FAO News and Media\n",
            "\n",
            "(+39) 06 570 53625\n",
            "[email protected]\n",
            "\n",
            "\n",
            "\n",
            "\n",
            "\n",
            "\n",
            "\n",
            "\n",
            "\n",
            "\n",
            "xu \n",
            "\n"
          ]
        }
      ]
    },
    {
      "cell_type": "code",
      "source": [
        "data.get_text()"
      ],
      "metadata": {
        "id": "E-uZDjXgsn2s",
        "outputId": "e4dec14b-c24a-4084-aa6d-d8b37b1402c2",
        "colab": {
          "base_uri": "https://localhost:8080/",
          "height": 139
        }
      },
      "id": "E-uZDjXgsn2s",
      "execution_count": 104,
      "outputs": [
        {
          "output_type": "execute_result",
          "data": {
            "text/plain": [
              "\"\\n\\n\\n\\n\\n\\n\\n\\n\\n\\nWorld food prices dip in December\\nFAO Food Price Index ends 2022 lower than a year earlier\\n\\n\\n\\n\\r\\n                                A farmer in Sicily carrying wheat seeds.\\r\\n                             \\n\\n©FAO/Giorgio Cosulich \\n\\n\\n\\n\\n06/01/2023\\n\\n\\nRome – The index of world food prices dipped for the ninth consecutive month in December 2022, declining by 1.9 percent from the previous month, the Food and Agriculture Organization of the United Nations (FAO) reported today. The FAO Food Price Index averaged 132.4 points in December, 1.0 percent below its value a year earlier. However, for 2022 as a whole, the index, which tracks monthly changes in the international prices of commonly-traded food commodities, averaged 143.7 points, 14.3 percent higher than the average value over 2021. “Calmer food commodity prices are welcome after two very volatile years,” said FAO Chief Economist Maximo Torero. “It is important to remain vigilant and keep a strong focus on mitigating global food insecurity given that world food prices remain at elevated levels, with many staples near record highs, and with prices of rice increasing, and still many risks associated with future supplies” Vegetable oil world quotations led the decrease, with the FAO Vegetable Oil Price Index down 6.7 percent from November to reach its lowest level since February 2021. International quotations for palm, soy, rapeseed and sunflowerseed oils all declined in December, driven by subdued global import demand and prospects of seasonally rising soy oil production in South America as well as declining crude oil prices.The FAO Cereal Price Index decreased 1.9 percent from November. Ongoing harvests in the southern hemisphere boosted wheat exportable supplies, while strong competition from Brazil drove down world maize prices. Conversely, international rice prices rose, buoyed by Asian buying and currency appreciation against the United States dollar for exporting countries. The FAO Meat Price Index in December dropped by 1.2 percent from November, with lower world prices of bovine and poultry meats outweighing higher pig and ovine meat prices. International bovine meat prices were impacted by lacklustre global demand for medium-term supplies, while more-than-adequate export supplies pushed down poultry meat prices. Pig meat prices rose on the back of strong internal holiday demand, especially in Europe, The FAO Dairy Price Index increased by 1.2 percent in December, following five months of consecutive declines. Higher international cheese prices, reflecting tightening market conditions, drove the monthly increase in the index, while international quotations for butter and milk powder declined. The FAO Sugar Price Index also rose, increasing by 2.4 percent from November, mostly due to concerns over the impact of adverse weather conditions on crop yields in India and sugarcane crushing delays in Thailand and Australia. Looking back on 2022As noted, the FAO Food Price Index average over 2022 was notably higher than the previous year, which on top of large increases in 2021 catalyzed significant strains and food security concerns for lower-income food-importing countries and the adoption, inspired by FAO, of a “Food Shock Window” lending facility by the International Monetary Fund. World prices of wheat and maize reached record highs over the year. The average value of the FAO Vegetable Oil Price Index for all of 2022 reached a new record high, while the FAO Dairy Price Index and Meat Price Index marked their highest full-year levels since 1990.More details are available here.\\n\\n\\nMore on this topic\\nFAO Food Price IndexFAO's most recent Cereal Supply and Demand BriefAMIS: Market MonitorAgricultural Market Information System (AMIS)FAO Markets and Trade\\n\\n\\n\\n\\n\\n\\n\\n\\nContact\\n\\nChristopher Emsden\\nFAO News and Media (Rome)\\n(+39) 06 570 53291\\n[email\\xa0protected]\\n\\n\\nFAO News and Media\\n\\n(+39) 06 570 53625\\n[email\\xa0protected]\\n\\n\\n\\n\\n\\n\\n\\n\\n\\n\\n\""
            ],
            "application/vnd.google.colaboratory.intrinsic+json": {
              "type": "string"
            }
          },
          "metadata": {},
          "execution_count": 104
        }
      ]
    },
    {
      "cell_type": "code",
      "source": [
        "data.text"
      ],
      "metadata": {
        "id": "h5aWcvOSs77w",
        "outputId": "f3a0ab71-413d-46f5-c8aa-c6a11c2073fb",
        "colab": {
          "base_uri": "https://localhost:8080/",
          "height": 139
        }
      },
      "id": "h5aWcvOSs77w",
      "execution_count": 106,
      "outputs": [
        {
          "output_type": "execute_result",
          "data": {
            "text/plain": [
              "\"\\n\\n\\n\\n\\n\\n\\n\\n\\n\\nWorld food prices dip in December\\nFAO Food Price Index ends 2022 lower than a year earlier\\n\\n\\n\\n\\r\\n                                A farmer in Sicily carrying wheat seeds.\\r\\n                             \\n\\n©FAO/Giorgio Cosulich \\n\\n\\n\\n\\n06/01/2023\\n\\n\\nRome – The index of world food prices dipped for the ninth consecutive month in December 2022, declining by 1.9 percent from the previous month, the Food and Agriculture Organization of the United Nations (FAO) reported today. The FAO Food Price Index averaged 132.4 points in December, 1.0 percent below its value a year earlier. However, for 2022 as a whole, the index, which tracks monthly changes in the international prices of commonly-traded food commodities, averaged 143.7 points, 14.3 percent higher than the average value over 2021. “Calmer food commodity prices are welcome after two very volatile years,” said FAO Chief Economist Maximo Torero. “It is important to remain vigilant and keep a strong focus on mitigating global food insecurity given that world food prices remain at elevated levels, with many staples near record highs, and with prices of rice increasing, and still many risks associated with future supplies” Vegetable oil world quotations led the decrease, with the FAO Vegetable Oil Price Index down 6.7 percent from November to reach its lowest level since February 2021. International quotations for palm, soy, rapeseed and sunflowerseed oils all declined in December, driven by subdued global import demand and prospects of seasonally rising soy oil production in South America as well as declining crude oil prices.The FAO Cereal Price Index decreased 1.9 percent from November. Ongoing harvests in the southern hemisphere boosted wheat exportable supplies, while strong competition from Brazil drove down world maize prices. Conversely, international rice prices rose, buoyed by Asian buying and currency appreciation against the United States dollar for exporting countries. The FAO Meat Price Index in December dropped by 1.2 percent from November, with lower world prices of bovine and poultry meats outweighing higher pig and ovine meat prices. International bovine meat prices were impacted by lacklustre global demand for medium-term supplies, while more-than-adequate export supplies pushed down poultry meat prices. Pig meat prices rose on the back of strong internal holiday demand, especially in Europe, The FAO Dairy Price Index increased by 1.2 percent in December, following five months of consecutive declines. Higher international cheese prices, reflecting tightening market conditions, drove the monthly increase in the index, while international quotations for butter and milk powder declined. The FAO Sugar Price Index also rose, increasing by 2.4 percent from November, mostly due to concerns over the impact of adverse weather conditions on crop yields in India and sugarcane crushing delays in Thailand and Australia. Looking back on 2022As noted, the FAO Food Price Index average over 2022 was notably higher than the previous year, which on top of large increases in 2021 catalyzed significant strains and food security concerns for lower-income food-importing countries and the adoption, inspired by FAO, of a “Food Shock Window” lending facility by the International Monetary Fund. World prices of wheat and maize reached record highs over the year. The average value of the FAO Vegetable Oil Price Index for all of 2022 reached a new record high, while the FAO Dairy Price Index and Meat Price Index marked their highest full-year levels since 1990.More details are available here.\\n\\n\\nMore on this topic\\nFAO Food Price IndexFAO's most recent Cereal Supply and Demand BriefAMIS: Market MonitorAgricultural Market Information System (AMIS)FAO Markets and Trade\\n\\n\\n\\n\\n\\n\\n\\n\\nContact\\n\\nChristopher Emsden\\nFAO News and Media (Rome)\\n(+39) 06 570 53291\\n[email\\xa0protected]\\n\\n\\nFAO News and Media\\n\\n(+39) 06 570 53625\\n[email\\xa0protected]\\n\\n\\n\\n\\n\\n\\n\\n\\n\\n\\n\""
            ],
            "application/vnd.google.colaboratory.intrinsic+json": {
              "type": "string"
            }
          },
          "metadata": {},
          "execution_count": 106
        }
      ]
    },
    {
      "cell_type": "code",
      "source": [
        "print(data.get_text(strip = True, separator = \". \"))"
      ],
      "metadata": {
        "id": "P_9CTe-_t_e2",
        "outputId": "da2345e7-b13d-4186-d05f-91fa096bde83",
        "colab": {
          "base_uri": "https://localhost:8080/"
        }
      },
      "id": "P_9CTe-_t_e2",
      "execution_count": 116,
      "outputs": [
        {
          "output_type": "stream",
          "name": "stdout",
          "text": [
            "World food prices dip in December. FAO Food Price Index ends 2022 lower than a year earlier. A farmer in Sicily carrying wheat seeds.. ©FAO/Giorgio Cosulich. 06/01/2023. Rome –. The index of world food prices dipped for the ninth consecutive month in December 2022, declining by 1.9 percent from the previous month, the Food and Agriculture Organization of the United Nations (FAO) reported today.. The. FAO Food Price Index. averaged 132.4 points in December, 1.0 percent below its value a year earlier. However, for 2022 as a whole, the index, which tracks monthly changes in the international prices of commonly-traded food commodities, averaged 143.7 points, 14.3 percent higher than the average value over 2021.. “Calmer food commodity prices are welcome after two very volatile years,” said FAO Chief Economist Maximo Torero. “It is important to remain vigilant and keep a strong focus on mitigating global food insecurity given that world food prices remain at elevated levels, with many staples near record highs, and with prices of rice increasing, and still many risks associated with future supplies”. Vegetable oil world quotations led the decrease, with the FAO Vegetable Oil Price Index down 6.7 percent from November to reach its lowest level since February 2021. International quotations for palm, soy, rapeseed and sunflowerseed oils all declined in December, driven by subdued global import demand and prospects of seasonally rising soy oil production in South America as well as declining crude oil prices.. The FAO Cereal Price Index decreased 1.9 percent from November. Ongoing harvests in the southern hemisphere boosted wheat exportable supplies, while strong competition from Brazil drove down world maize prices. Conversely, international rice prices rose, buoyed by Asian buying and currency appreciation against the United States dollar for exporting countries.. The FAO Meat Price Index in December dropped by 1.2 percent from November, with lower world prices of bovine and poultry meats outweighing higher pig and ovine meat prices. International bovine meat prices were impacted by lacklustre global demand for medium-term supplies, while more-than-adequate export supplies pushed down poultry meat prices. Pig meat prices rose on the back of strong internal holiday demand, especially in Europe,. The FAO Dairy Price Index increased by 1.2 percent in December, following five months of consecutive declines. Higher international cheese prices, reflecting tightening market conditions, drove the monthly increase in the index, while international quotations for butter and milk powder declined.. The FAO Sugar Price Index also rose, increasing by 2.4 percent from November, mostly due to concerns over the impact of adverse weather conditions on crop yields in India and sugarcane crushing delays in Thailand and Australia.. Looking back on 2022. As noted, the FAO Food Price Index average over 2022 was notably higher than the previous year, which on top of large increases in. 2021. catalyzed significant strains and food security concerns for lower-income food-importing countries and the adoption,. inspired by FAO. , of a “Food Shock Window” lending facility by the. International Monetary Fund. .. World prices of wheat and maize reached record highs over the year. The average value of the FAO Vegetable Oil Price Index for all of 2022 reached a new record high, while the FAO Dairy Price Index and Meat Price Index marked their highest full-year levels since 1990.. More details are available. here. .. More on this topic. FAO Food Price Index. FAO's most recent Cereal Supply and Demand Brief. AMIS: Market Monitor. Agricultural Market Information System (AMIS). FAO Markets and Trade. Contact. Christopher Emsden. FAO News and Media (Rome). (+39) 06 570 53291. [email protected]. FAO News and Media. (+39) 06 570 53625. [email protected]\n"
          ]
        }
      ]
    },
    {
      "cell_type": "code",
      "source": [
        "text = data.get_text(strip = True, separator = \". \")\n",
        "import re\n",
        "text"
      ],
      "metadata": {
        "id": "syGZIyKLuctE",
        "outputId": "2b4a6424-cf83-4116-dca8-65f6f79d65ea",
        "colab": {
          "base_uri": "https://localhost:8080/",
          "height": 139
        }
      },
      "id": "syGZIyKLuctE",
      "execution_count": 144,
      "outputs": [
        {
          "output_type": "execute_result",
          "data": {
            "text/plain": [
              "\"World food prices dip in December. FAO Food Price Index ends 2022 lower than a year earlier. A farmer in Sicily carrying wheat seeds.. ©FAO/Giorgio Cosulich. 06/01/2023. Rome –. The index of world food prices dipped for the ninth consecutive month in December 2022, declining by 1.9 percent from the previous month, the Food and Agriculture Organization of the United Nations (FAO) reported today.. The. FAO Food Price Index. averaged 132.4 points in December, 1.0 percent below its value a year earlier. However, for 2022 as a whole, the index, which tracks monthly changes in the international prices of commonly-traded food commodities, averaged 143.7 points, 14.3 percent higher than the average value over 2021.. “Calmer food commodity prices are welcome after two very volatile years,” said FAO Chief Economist Maximo Torero. “It is important to remain vigilant and keep a strong focus on mitigating global food insecurity given that world food prices remain at elevated levels, with many staples near record highs, and with prices of rice increasing, and still many risks associated with future supplies”. Vegetable oil world quotations led the decrease, with the FAO Vegetable Oil Price Index down 6.7 percent from November to reach its lowest level since February 2021. International quotations for palm, soy, rapeseed and sunflowerseed oils all declined in December, driven by subdued global import demand and prospects of seasonally rising soy oil production in South America as well as declining crude oil prices.. The FAO Cereal Price Index decreased 1.9 percent from November. Ongoing harvests in the southern hemisphere boosted wheat exportable supplies, while strong competition from Brazil drove down world maize prices. Conversely, international rice prices rose, buoyed by Asian buying and currency appreciation against the United States dollar for exporting countries.. The FAO Meat Price Index in December dropped by 1.2 percent from November, with lower world prices of bovine and poultry meats outweighing higher pig and ovine meat prices. International bovine meat prices were impacted by lacklustre global demand for medium-term supplies, while more-than-adequate export supplies pushed down poultry meat prices. Pig meat prices rose on the back of strong internal holiday demand, especially in Europe,. The FAO Dairy Price Index increased by 1.2 percent in December, following five months of consecutive declines. Higher international cheese prices, reflecting tightening market conditions, drove the monthly increase in the index, while international quotations for butter and milk powder declined.. The FAO Sugar Price Index also rose, increasing by 2.4 percent from November, mostly due to concerns over the impact of adverse weather conditions on crop yields in India and sugarcane crushing delays in Thailand and Australia.. Looking back on 2022. As noted, the FAO Food Price Index average over 2022 was notably higher than the previous year, which on top of large increases in. 2021. catalyzed significant strains and food security concerns for lower-income food-importing countries and the adoption,. inspired by FAO. , of a “Food Shock Window” lending facility by the. International Monetary Fund. .. World prices of wheat and maize reached record highs over the year. The average value of the FAO Vegetable Oil Price Index for all of 2022 reached a new record high, while the FAO Dairy Price Index and Meat Price Index marked their highest full-year levels since 1990.. More details are available. here. .. More on this topic. FAO Food Price Index. FAO's most recent Cereal Supply and Demand Brief. AMIS: Market Monitor. Agricultural Market Information System (AMIS). FAO Markets and Trade. Contact. Christopher Emsden. FAO News and Media (Rome). (+39) 06 570 53291. [email\\xa0protected]. FAO News and Media. (+39) 06 570 53625. [email\\xa0protected]\""
            ],
            "application/vnd.google.colaboratory.intrinsic+json": {
              "type": "string"
            }
          },
          "metadata": {},
          "execution_count": 144
        }
      ]
    },
    {
      "cell_type": "code",
      "source": [
        "text = re.sub(r'\\.\\.', '.', text)\n",
        "text"
      ],
      "metadata": {
        "id": "YZXtFNv8vip9",
        "outputId": "732433f7-1f0d-4d8a-9468-f3680263be85",
        "colab": {
          "base_uri": "https://localhost:8080/",
          "height": 139
        }
      },
      "id": "YZXtFNv8vip9",
      "execution_count": 145,
      "outputs": [
        {
          "output_type": "execute_result",
          "data": {
            "text/plain": [
              "\"World food prices dip in December. FAO Food Price Index ends 2022 lower than a year earlier. A farmer in Sicily carrying wheat seeds. ©FAO/Giorgio Cosulich. 06/01/2023. Rome –. The index of world food prices dipped for the ninth consecutive month in December 2022, declining by 1.9 percent from the previous month, the Food and Agriculture Organization of the United Nations (FAO) reported today. The. FAO Food Price Index. averaged 132.4 points in December, 1.0 percent below its value a year earlier. However, for 2022 as a whole, the index, which tracks monthly changes in the international prices of commonly-traded food commodities, averaged 143.7 points, 14.3 percent higher than the average value over 2021. “Calmer food commodity prices are welcome after two very volatile years,” said FAO Chief Economist Maximo Torero. “It is important to remain vigilant and keep a strong focus on mitigating global food insecurity given that world food prices remain at elevated levels, with many staples near record highs, and with prices of rice increasing, and still many risks associated with future supplies”. Vegetable oil world quotations led the decrease, with the FAO Vegetable Oil Price Index down 6.7 percent from November to reach its lowest level since February 2021. International quotations for palm, soy, rapeseed and sunflowerseed oils all declined in December, driven by subdued global import demand and prospects of seasonally rising soy oil production in South America as well as declining crude oil prices. The FAO Cereal Price Index decreased 1.9 percent from November. Ongoing harvests in the southern hemisphere boosted wheat exportable supplies, while strong competition from Brazil drove down world maize prices. Conversely, international rice prices rose, buoyed by Asian buying and currency appreciation against the United States dollar for exporting countries. The FAO Meat Price Index in December dropped by 1.2 percent from November, with lower world prices of bovine and poultry meats outweighing higher pig and ovine meat prices. International bovine meat prices were impacted by lacklustre global demand for medium-term supplies, while more-than-adequate export supplies pushed down poultry meat prices. Pig meat prices rose on the back of strong internal holiday demand, especially in Europe,. The FAO Dairy Price Index increased by 1.2 percent in December, following five months of consecutive declines. Higher international cheese prices, reflecting tightening market conditions, drove the monthly increase in the index, while international quotations for butter and milk powder declined. The FAO Sugar Price Index also rose, increasing by 2.4 percent from November, mostly due to concerns over the impact of adverse weather conditions on crop yields in India and sugarcane crushing delays in Thailand and Australia. Looking back on 2022. As noted, the FAO Food Price Index average over 2022 was notably higher than the previous year, which on top of large increases in. 2021. catalyzed significant strains and food security concerns for lower-income food-importing countries and the adoption,. inspired by FAO. , of a “Food Shock Window” lending facility by the. International Monetary Fund. . World prices of wheat and maize reached record highs over the year. The average value of the FAO Vegetable Oil Price Index for all of 2022 reached a new record high, while the FAO Dairy Price Index and Meat Price Index marked their highest full-year levels since 1990. More details are available. here. . More on this topic. FAO Food Price Index. FAO's most recent Cereal Supply and Demand Brief. AMIS: Market Monitor. Agricultural Market Information System (AMIS). FAO Markets and Trade. Contact. Christopher Emsden. FAO News and Media (Rome). (+39) 06 570 53291. [email\\xa0protected]. FAO News and Media. (+39) 06 570 53625. [email\\xa0protected]\""
            ],
            "application/vnd.google.colaboratory.intrinsic+json": {
              "type": "string"
            }
          },
          "metadata": {},
          "execution_count": 145
        }
      ]
    },
    {
      "cell_type": "code",
      "source": [],
      "metadata": {
        "id": "q51QxIapxLas"
      },
      "id": "q51QxIapxLas",
      "execution_count": null,
      "outputs": []
    }
  ],
  "metadata": {
    "kernelspec": {
      "display_name": "Python 3 (ipykernel)",
      "language": "python",
      "name": "python3"
    },
    "language_info": {
      "codemirror_mode": {
        "name": "ipython",
        "version": 3
      },
      "file_extension": ".py",
      "mimetype": "text/x-python",
      "name": "python",
      "nbconvert_exporter": "python",
      "pygments_lexer": "ipython3",
      "version": "3.12.5"
    },
    "colab": {
      "provenance": []
    }
  },
  "nbformat": 4,
  "nbformat_minor": 5
}