{
 "cells": [
  {
   "cell_type": "markdown",
   "id": "19b1b8e6-046a-4bde-b44b-c733885c8bb9",
   "metadata": {},
   "source": [
    "## 1. given the sentence, try your best to tokenize this sentence. "
   ]
  },
  {
   "cell_type": "code",
   "execution_count": 3,
   "id": "879463dd-087c-4694-b9a4-40d34bc2e653",
   "metadata": {},
   "outputs": [
    {
     "data": {
      "text/plain": [
       "['Hi Michael Stone, We are glad you could join us. I hope you have watched every video from week 1 and are prepared to put what you have learned into practise.']"
      ]
     },
     "execution_count": 3,
     "metadata": {},
     "output_type": "execute_result"
    }
   ],
   "source": [
    "sentences = [\n",
    "  'Hi Michael Stone, We are glad you could join us. I hope you have watched every video from week 1 and are prepared to put what you have learned into practise.',\n",
    "]\n",
    "sentences"
   ]
  },
  {
   "cell_type": "code",
   "execution_count": 4,
   "id": "62085c8a-03ff-4d50-a19f-b507dd0447ad",
   "metadata": {},
   "outputs": [
    {
     "ename": "ModuleNotFoundError",
     "evalue": "No module named 'spacy'",
     "output_type": "error",
     "traceback": [
      "\u001b[1;31m---------------------------------------------------------------------------\u001b[0m",
      "\u001b[1;31mModuleNotFoundError\u001b[0m                       Traceback (most recent call last)",
      "Cell \u001b[1;32mIn[4], line 1\u001b[0m\n\u001b[1;32m----> 1\u001b[0m \u001b[38;5;28;01mimport\u001b[39;00m \u001b[38;5;21;01mspacy\u001b[39;00m\n",
      "\u001b[1;31mModuleNotFoundError\u001b[0m: No module named 'spacy'"
     ]
    }
   ],
   "source": [
    "import spacy"
   ]
  },
  {
   "cell_type": "code",
   "execution_count": null,
   "id": "44709139-baac-4262-900d-ba0b195011cf",
   "metadata": {},
   "outputs": [],
   "source": []
  }
 ],
 "metadata": {
  "kernelspec": {
   "display_name": "Python 3 (ipykernel)",
   "language": "python",
   "name": "python3"
  },
  "language_info": {
   "codemirror_mode": {
    "name": "ipython",
    "version": 3
   },
   "file_extension": ".py",
   "mimetype": "text/x-python",
   "name": "python",
   "nbconvert_exporter": "python",
   "pygments_lexer": "ipython3",
   "version": "3.12.5"
  }
 },
 "nbformat": 4,
 "nbformat_minor": 5
}
